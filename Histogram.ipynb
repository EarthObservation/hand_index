{
 "cells": [
  {
   "cell_type": "code",
   "execution_count": 2,
   "id": "9b4d5de2-41a9-438e-9697-8dc89c0d359d",
   "metadata": {},
   "outputs": [],
   "source": [
    "import rasterio\n",
    "import matplotlib.pyplot as plt\n",
    "from rasterio.plot import show_hist\n",
    "import numpy as np"
   ]
  },
  {
   "cell_type": "markdown",
   "id": "c57f559a-093d-4e76-b4a9-1e19c1883989",
   "metadata": {},
   "source": [
    "# HISTOGRAM (HAND)"
   ]
  },
  {
   "cell_type": "code",
   "execution_count": 3,
   "id": "39959be8-9756-484e-a189-d26510a315c1",
   "metadata": {},
   "outputs": [],
   "source": [
    "with rasterio.open(\".\\\\data\\\\dem_slo_07_HAND_fil.tif\") as src:\n",
    "    my_hand = src.read()\n",
    "    my_meta = src.profile"
   ]
  },
  {
   "cell_type": "code",
   "execution_count": 6,
   "id": "5329731e-d25f-4f4d-89af-fe28f2b62ee6",
   "metadata": {},
   "outputs": [
    {
     "data": {
      "text/plain": [
       "212008804"
      ]
     },
     "execution_count": 6,
     "metadata": {},
     "output_type": "execute_result"
    }
   ],
   "source": [
    "total_pix = np.count_nonzero(my_hand >= 0)\n",
    "total_pix"
   ]
  },
  {
   "cell_type": "code",
   "execution_count": 7,
   "id": "6351d762-8457-416d-abed-1e565c273422",
   "metadata": {},
   "outputs": [
    {
     "data": {
      "text/plain": [
       "155497629"
      ]
     },
     "execution_count": 7,
     "metadata": {},
     "output_type": "execute_result"
    }
   ],
   "source": [
    "larger_20 = np.count_nonzero(my_hand > 20 )\n",
    "larger_20"
   ]
  },
  {
   "cell_type": "code",
   "execution_count": 8,
   "id": "fdd9a93a-455b-409f-bcec-c0e5de0409f0",
   "metadata": {},
   "outputs": [
    {
     "data": {
      "text/plain": [
       "0.733448923187171"
      ]
     },
     "execution_count": 8,
     "metadata": {},
     "output_type": "execute_result"
    }
   ],
   "source": [
    "larger_20 / total_pix"
   ]
  },
  {
   "cell_type": "code",
   "execution_count": 11,
   "id": "c8267528-96bd-4b08-8237-d8df94853c91",
   "metadata": {},
   "outputs": [
    {
     "data": {
      "text/plain": [
       "0.06480954913551609"
      ]
     },
     "execution_count": 11,
     "metadata": {},
     "output_type": "execute_result"
    }
   ],
   "source": [
    "np.count_nonzero((my_hand >= 0) & (my_hand < 1)) / total_pix\n"
   ]
  },
  {
   "cell_type": "code",
   "execution_count": 9,
   "id": "012ccc89-0d6d-4a7f-b09e-08064c7466f9",
   "metadata": {},
   "outputs": [
    {
     "data": {
      "text/plain": [
       "0.10363835645240468"
      ]
     },
     "execution_count": 9,
     "metadata": {},
     "output_type": "execute_result"
    }
   ],
   "source": [
    "np.count_nonzero((my_hand >= 0) & (my_hand < 2.5)) / total_pix\n",
    "    "
   ]
  },
  {
   "cell_type": "code",
   "execution_count": 10,
   "id": "690bb384-58d8-4b52-a66a-a9ab71da516a",
   "metadata": {},
   "outputs": [
    {
     "data": {
      "text/plain": [
       "0.16291253640579945"
      ]
     },
     "execution_count": 10,
     "metadata": {},
     "output_type": "execute_result"
    }
   ],
   "source": [
    "np.count_nonzero((my_hand >= 2.5) & (my_hand < 20)) / total_pix\n"
   ]
  },
  {
   "cell_type": "code",
   "execution_count": 13,
   "id": "9f4f8c74-ea4b-4bda-8834-a7144ff73e69",
   "metadata": {},
   "outputs": [
    {
     "data": {
      "text/plain": [
       "0.857579843712528"
      ]
     },
     "execution_count": 13,
     "metadata": {},
     "output_type": "execute_result"
    }
   ],
   "source": [
    "np.count_nonzero(my_hand > 5) / total_pix\n"
   ]
  },
  {
   "cell_type": "code",
   "execution_count": null,
   "id": "5e382dbd-59d7-40aa-9016-b4ddd0f9fc11",
   "metadata": {},
   "outputs": [],
   "source": []
  },
  {
   "cell_type": "code",
   "execution_count": null,
   "id": "d300b0b8-3461-4e99-9ce7-14ac8956857d",
   "metadata": {},
   "outputs": [],
   "source": []
  },
  {
   "cell_type": "code",
   "execution_count": null,
   "id": "f19d62c9-b416-429e-b707-dccf9dc0d4ee",
   "metadata": {},
   "outputs": [],
   "source": []
  },
  {
   "cell_type": "code",
   "execution_count": null,
   "id": "216f465d-036c-44df-b1a4-7a09298dff3a",
   "metadata": {},
   "outputs": [],
   "source": []
  },
  {
   "cell_type": "code",
   "execution_count": 54,
   "id": "2676266a-9e2d-4f03-a6ef-c1574164335f",
   "metadata": {},
   "outputs": [
    {
     "data": {
      "text/plain": [
       "(array([2.7699078e+07, 9.6923440e+06, 7.3993040e+06, 6.4877330e+06,\n",
       "        6.1621180e+06, 5.6103390e+06, 5.3105720e+06, 5.0138020e+06,\n",
       "        4.6770450e+06, 4.3881410e+06, 4.1628410e+06, 3.9544840e+06,\n",
       "        3.7074140e+06, 3.4477970e+06, 3.2947390e+06, 3.0754240e+06,\n",
       "        2.9072940e+06, 2.8101710e+06, 2.5404650e+06, 2.3731500e+06,\n",
       "        2.3171570e+06, 2.1408140e+06, 2.0407300e+06, 2.0417290e+06,\n",
       "        1.8802010e+06, 1.8477070e+06, 1.7627820e+06, 1.7543750e+06,\n",
       "        1.6281490e+06, 1.5595000e+06, 1.4764890e+06, 1.4462080e+06,\n",
       "        1.3915770e+06, 1.3852560e+06, 1.2794840e+06, 1.2431560e+06,\n",
       "        1.2959780e+06, 1.1762470e+06, 1.1336290e+06, 1.0776950e+06,\n",
       "        1.0557640e+06, 1.0970690e+06, 1.0144480e+06, 9.8720100e+05,\n",
       "        9.4345900e+05, 9.3676800e+05, 9.8166300e+05, 8.7091500e+05,\n",
       "        8.4504100e+05, 8.1002200e+05, 7.8466900e+05, 7.7083300e+05,\n",
       "        7.4267900e+05, 7.2165400e+05, 1.0155000e+06, 7.1587500e+05,\n",
       "        7.0050300e+05, 6.7621200e+05, 6.4307900e+05, 6.3834700e+05,\n",
       "        6.5152300e+05, 6.6488500e+05, 6.1094300e+05, 5.9909500e+05,\n",
       "        6.0966800e+05, 5.9252200e+05, 5.7102800e+05, 5.6235000e+05,\n",
       "        5.4364500e+05, 5.3035300e+05, 5.2229000e+05, 5.1821800e+05,\n",
       "        5.2416700e+05, 4.8612400e+05, 5.1991200e+05, 4.8250400e+05,\n",
       "        4.9814500e+05, 4.7549600e+05, 4.5101900e+05, 4.5396100e+05,\n",
       "        4.3786600e+05, 4.2763200e+05, 4.1610400e+05, 4.0943600e+05,\n",
       "        4.0270600e+05, 3.8781300e+05, 3.6980100e+05, 3.7242200e+05,\n",
       "        3.8932400e+05, 3.5791600e+05, 3.6145000e+05, 3.5066700e+05,\n",
       "        3.3056300e+05, 3.2472700e+05, 3.3562100e+05, 3.1728000e+05,\n",
       "        3.1402000e+05, 3.1168300e+05, 3.0852800e+05, 2.9875700e+05,\n",
       "        2.9574100e+05, 2.9144900e+05, 2.9436900e+05, 2.9195500e+05,\n",
       "        2.8432800e+05, 2.8223700e+05, 2.7099200e+05, 2.6863700e+05,\n",
       "        2.7426100e+05, 2.5818800e+05, 2.7406200e+05, 2.7532100e+05,\n",
       "        2.9801500e+05, 2.5530700e+05, 2.5875500e+05, 2.5173200e+05,\n",
       "        2.6589800e+05, 2.4524000e+05, 2.4009800e+05, 2.3343500e+05,\n",
       "        2.3488200e+05, 2.2116900e+05, 2.2232300e+05, 2.2241000e+05,\n",
       "        2.2196700e+05, 2.2571900e+05, 2.1237900e+05, 2.1421600e+05,\n",
       "        2.1965300e+05, 2.0478100e+05, 1.9954200e+05, 2.0055800e+05,\n",
       "        1.9852700e+05, 1.9372700e+05, 1.8654800e+05, 1.7936400e+05,\n",
       "        1.8744500e+05, 1.7370300e+05, 1.8085100e+05, 1.7666100e+05,\n",
       "        1.7357900e+05, 1.6514400e+05, 1.6083100e+05, 1.8979200e+05,\n",
       "        1.5975300e+05, 1.5518400e+05, 1.4834000e+05, 1.4589300e+05,\n",
       "        1.4641500e+05, 1.4200400e+05, 1.7041800e+05, 1.4459300e+05,\n",
       "        1.3519200e+05, 1.3928100e+05, 1.3992800e+05, 1.3783600e+05,\n",
       "        1.4780600e+05, 1.4020600e+05, 1.3773600e+05, 1.3878200e+05,\n",
       "        1.4425500e+05, 1.2852800e+05, 1.3333200e+05, 1.2294500e+05,\n",
       "        1.3559400e+05, 1.3724600e+05, 1.2124300e+05, 1.1553200e+05,\n",
       "        1.1339100e+05, 1.1008000e+05, 1.0511700e+05, 1.0211200e+05,\n",
       "        9.9785000e+04, 9.9690000e+04, 9.6456000e+04, 9.6587000e+04,\n",
       "        9.2675000e+04, 9.1732000e+04, 8.7580000e+04, 8.8072000e+04,\n",
       "        8.1923000e+04, 8.6229000e+04, 7.8122000e+04, 8.1749000e+04,\n",
       "        7.6513000e+04, 7.2325000e+04, 7.1207000e+04, 6.8317000e+04,\n",
       "        7.0213000e+04, 6.4837000e+04, 6.3336000e+04, 6.3611000e+04,\n",
       "        5.9461000e+04, 5.9140000e+04, 5.6669000e+04, 5.4949000e+04,\n",
       "        5.3517000e+04, 5.2145000e+04, 5.4411000e+04, 4.9366000e+04,\n",
       "        4.8270000e+04, 4.9177000e+04, 4.7109000e+04, 5.1908000e+04,\n",
       "        4.7516000e+04, 4.8634000e+04, 4.8182000e+04, 4.7136000e+04,\n",
       "        4.5533000e+04, 4.8983000e+04, 4.3436000e+04, 4.2220000e+04,\n",
       "        4.4353000e+04, 4.2066000e+04, 4.2039000e+04, 4.1049000e+04,\n",
       "        4.0449000e+04, 4.0368000e+04, 3.9866000e+04, 3.9380000e+04,\n",
       "        3.7820000e+04, 3.8545000e+04, 4.7442000e+04, 3.6451000e+04,\n",
       "        3.5779000e+04, 3.5393000e+04, 3.6505000e+04, 3.3725000e+04,\n",
       "        3.4264000e+04, 3.3168000e+04, 3.2919000e+04, 3.2012000e+04,\n",
       "        3.2109000e+04, 3.1216000e+04, 3.0603000e+04, 2.9685000e+04,\n",
       "        2.8905000e+04, 3.2055000e+04, 2.9428000e+04, 2.9139000e+04,\n",
       "        2.9502000e+04, 2.9000000e+04, 2.9033000e+04, 2.8127000e+04,\n",
       "        3.1572000e+04, 2.8376000e+04, 2.7542000e+04, 2.8525000e+04,\n",
       "        3.0403000e+04, 2.7997000e+04, 2.8627000e+04, 2.7159000e+04,\n",
       "        2.6435000e+04, 2.7029000e+04, 2.6645000e+04, 2.6083000e+04,\n",
       "        2.5496000e+04, 2.5383000e+04, 2.5562000e+04, 2.4801000e+04,\n",
       "        2.4877000e+04, 2.4378000e+04, 2.4378000e+04, 2.6346000e+04,\n",
       "        2.4364000e+04, 2.4243000e+04, 2.3765000e+04, 2.3925000e+04,\n",
       "        2.3077000e+04, 2.3988000e+04, 2.3382000e+04, 2.2884000e+04,\n",
       "        2.2249000e+04, 2.1801000e+04, 2.3128000e+04, 2.2976000e+04,\n",
       "        2.2078000e+04, 2.1496000e+04, 2.2009000e+04, 2.1331000e+04,\n",
       "        2.1270000e+04, 2.0722000e+04, 2.0356000e+04, 2.0342000e+04,\n",
       "        1.9996000e+04, 1.9937000e+04, 1.9968000e+04, 1.9913000e+04,\n",
       "        1.9374000e+04, 1.8993000e+04, 1.9820000e+04, 1.8730000e+04,\n",
       "        1.8631000e+04, 1.7931000e+04, 1.7880000e+04, 1.7775000e+04,\n",
       "        1.7365000e+04, 1.7612000e+04, 1.7880000e+04, 1.7048000e+04,\n",
       "        1.6480000e+04, 1.6586000e+04, 1.7251000e+04, 1.6162000e+04,\n",
       "        1.6789000e+04, 1.5908000e+04, 1.5297000e+04, 1.4806000e+04,\n",
       "        1.4507000e+04, 1.4035000e+04, 1.3566000e+04, 1.3729000e+04,\n",
       "        1.4683000e+04, 1.2803000e+04, 1.2579000e+04, 1.2358000e+04,\n",
       "        1.2779000e+04, 1.3618000e+04, 1.2224000e+04, 1.1875000e+04,\n",
       "        1.1570000e+04, 1.1035000e+04, 1.0842000e+04, 1.0581000e+04,\n",
       "        1.0434000e+04, 1.0345000e+04, 1.0120000e+04, 1.0229000e+04,\n",
       "        9.6140000e+03, 9.8210000e+03, 9.6450000e+03, 9.5450000e+03,\n",
       "        9.4720000e+03, 9.1910000e+03, 8.9740000e+03, 8.7430000e+03,\n",
       "        8.4100000e+03, 8.1200000e+03, 8.0370000e+03, 7.8340000e+03,\n",
       "        7.6270000e+03, 7.4680000e+03, 8.3210000e+03, 7.5240000e+03,\n",
       "        7.3840000e+03, 7.0340000e+03, 6.8250000e+03, 6.9700000e+03,\n",
       "        6.6410000e+03, 6.2240000e+03, 6.1450000e+03, 5.9560000e+03,\n",
       "        5.8050000e+03, 5.7360000e+03, 5.6050000e+03, 5.7390000e+03,\n",
       "        5.3080000e+03, 7.3530000e+03, 5.5720000e+03, 4.9490000e+03,\n",
       "        4.9990000e+03, 4.8650000e+03, 4.6370000e+03, 4.9690000e+03,\n",
       "        4.6580000e+03, 4.4370000e+03, 4.3920000e+03, 4.1770000e+03,\n",
       "        4.4620000e+03, 4.3820000e+03, 4.1750000e+03, 4.2070000e+03,\n",
       "        3.9920000e+03, 4.0170000e+03, 4.2170000e+03, 3.9060000e+03,\n",
       "        3.9250000e+03, 3.8460000e+03, 3.6770000e+03, 4.0580000e+03,\n",
       "        4.2400000e+03, 3.7070000e+03, 3.6430000e+03, 3.5490000e+03,\n",
       "        3.7730000e+03, 3.6420000e+03, 3.4310000e+03, 3.2220000e+03,\n",
       "        3.0940000e+03, 2.9860000e+03, 2.9480000e+03, 2.9940000e+03,\n",
       "        2.9100000e+03, 2.7290000e+03, 2.6270000e+03, 2.6880000e+03,\n",
       "        3.6160000e+03, 2.5990000e+03, 2.3890000e+03, 2.2000000e+03,\n",
       "        2.3040000e+03, 2.2720000e+03, 2.1090000e+03, 2.0570000e+03,\n",
       "        1.9040000e+03, 1.8150000e+03, 1.7080000e+03, 1.6750000e+03,\n",
       "        1.7050000e+03, 1.6320000e+03, 1.5740000e+03, 1.6060000e+03,\n",
       "        1.5840000e+03, 1.4440000e+03, 1.5760000e+03, 1.4820000e+03,\n",
       "        1.3300000e+03, 1.3360000e+03, 1.3120000e+03, 1.3530000e+03,\n",
       "        1.2820000e+03, 1.2800000e+03, 1.2950000e+03, 1.2900000e+03,\n",
       "        1.1760000e+03, 1.1880000e+03, 1.1680000e+03, 1.0140000e+03,\n",
       "        9.6000000e+02, 9.1100000e+02, 8.9600000e+02, 8.5900000e+02,\n",
       "        8.5300000e+02, 8.2300000e+02, 7.7900000e+02, 7.5000000e+02,\n",
       "        7.3400000e+02, 6.5400000e+02, 6.5500000e+02, 6.3100000e+02,\n",
       "        5.9500000e+02, 5.3100000e+02, 5.5000000e+02, 5.0200000e+02,\n",
       "        5.0700000e+02, 4.6800000e+02, 4.7400000e+02, 3.9400000e+02,\n",
       "        4.3900000e+02, 3.7800000e+02, 3.5700000e+02, 3.3900000e+02,\n",
       "        2.8400000e+02, 3.2100000e+02, 2.7600000e+02, 2.8500000e+02,\n",
       "        2.7300000e+02, 2.4500000e+02, 2.2300000e+02, 1.9700000e+02,\n",
       "        2.1100000e+02, 2.0600000e+02, 1.7100000e+02, 1.8900000e+02,\n",
       "        1.6600000e+02, 1.4500000e+02, 1.5600000e+02, 1.5000000e+02,\n",
       "        1.1700000e+02, 1.3000000e+02, 1.0500000e+02, 9.7000000e+01,\n",
       "        9.0000000e+01, 7.3000000e+01, 8.4000000e+01, 8.9000000e+01,\n",
       "        7.0000000e+01, 6.5000000e+01, 8.4000000e+01, 6.5000000e+01,\n",
       "        5.6000000e+01, 6.1000000e+01, 4.7000000e+01, 5.0000000e+01,\n",
       "        3.8000000e+01, 4.4000000e+01, 4.3000000e+01, 2.8000000e+01,\n",
       "        3.9000000e+01, 3.2000000e+01, 1.9000000e+01, 2.7000000e+01,\n",
       "        2.5000000e+01, 2.2000000e+01, 1.6000000e+01, 2.1000000e+01,\n",
       "        1.4000000e+01, 6.0000000e+00, 5.0000000e+00, 2.0000000e+00]),\n",
       " array([   0.      ,    4.246968,    8.493936,   12.740903,   16.987871,\n",
       "          21.234838,   25.481806,   29.728775,   33.975742,   38.22271 ,\n",
       "          42.469677,   46.716644,   50.96361 ,   55.210583,   59.45755 ,\n",
       "          63.704517,   67.951485,   72.198456,   76.44542 ,   80.69239 ,\n",
       "          84.939354,   89.186325,   93.43329 ,   97.68026 ,  101.92722 ,\n",
       "         106.174194,  110.421165,  114.66813 ,  118.9151  ,  123.16206 ,\n",
       "         127.409035,  131.656   ,  135.90297 ,  140.14993 ,  144.39691 ,\n",
       "         148.64388 ,  152.89084 ,  157.1378  ,  161.38478 ,  165.63174 ,\n",
       "         169.87871 ,  174.12567 ,  178.37265 ,  182.61961 ,  186.86658 ,\n",
       "         191.11356 ,  195.36052 ,  199.60748 ,  203.85445 ,  208.10143 ,\n",
       "         212.34839 ,  216.59535 ,  220.84233 ,  225.0893  ,  229.33626 ,\n",
       "         233.58322 ,  237.8302  ,  242.07716 ,  246.32413 ,  250.5711  ,\n",
       "         254.81807 ,  259.06503 ,  263.312   ,  267.55896 ,  271.80594 ,\n",
       "         276.05292 ,  280.29987 ,  284.54684 ,  288.79382 ,  293.04077 ,\n",
       "         297.28775 ,  301.5347  ,  305.78168 ,  310.02866 ,  314.2756  ,\n",
       "         318.52258 ,  322.76956 ,  327.0165  ,  331.2635  ,  335.51047 ,\n",
       "         339.75742 ,  344.0044  ,  348.25134 ,  352.49832 ,  356.7453  ,\n",
       "         360.99225 ,  365.23923 ,  369.4862  ,  373.73315 ,  377.98013 ,\n",
       "         382.2271  ,  386.47406 ,  390.72104 ,  394.96802 ,  399.21497 ,\n",
       "         403.46194 ,  407.7089  ,  411.95587 ,  416.20285 ,  420.4498  ,\n",
       "         424.69678 ,  428.94376 ,  433.1907  ,  437.43768 ,  441.68466 ,\n",
       "         445.9316  ,  450.1786  ,  454.42554 ,  458.67252 ,  462.9195  ,\n",
       "         467.16644 ,  471.41342 ,  475.6604  ,  479.90735 ,  484.15433 ,\n",
       "         488.4013  ,  492.64825 ,  496.89523 ,  501.1422  ,  505.38916 ,\n",
       "         509.63614 ,  513.8831  ,  518.13007 ,  522.377   ,  526.624   ,\n",
       "         530.871   ,  535.1179  ,  539.3649  ,  543.6119  ,  547.8588  ,\n",
       "         552.10583 ,  556.3528  ,  560.59973 ,  564.84674 ,  569.0937  ,\n",
       "         573.34064 ,  577.58765 ,  581.8346  ,  586.08154 ,  590.3285  ,\n",
       "         594.5755  ,  598.82245 ,  603.0694  ,  607.3164  ,  611.56335 ,\n",
       "         615.8103  ,  620.0573  ,  624.30426 ,  628.5512  ,  632.7982  ,\n",
       "         637.04517 ,  641.2921  ,  645.5391  ,  649.7861  ,  654.033   ,\n",
       "         658.28    ,  662.527   ,  666.7739  ,  671.02094 ,  675.2679  ,\n",
       "         679.51483 ,  683.76184 ,  688.0088  ,  692.25574 ,  696.5027  ,\n",
       "         700.7497  ,  704.99664 ,  709.2436  ,  713.4906  ,  717.73755 ,\n",
       "         721.9845  ,  726.2315  ,  730.47845 ,  734.7254  ,  738.9724  ,\n",
       "         743.21936 ,  747.4663  ,  751.7133  ,  755.96027 ,  760.2072  ,\n",
       "         764.4542  ,  768.7012  ,  772.9481  ,  777.1951  ,  781.4421  ,\n",
       "         785.689   ,  789.93604 ,  794.183   ,  798.42993 ,  802.6769  ,\n",
       "         806.9239  ,  811.17084 ,  815.4178  ,  819.6648  ,  823.91174 ,\n",
       "         828.1587  ,  832.4057  ,  836.65265 ,  840.8996  ,  845.1466  ,\n",
       "         849.39355 ,  853.6405  ,  857.8875  ,  862.13446 ,  866.3814  ,\n",
       "         870.6284  ,  874.87537 ,  879.1223  ,  883.3693  ,  887.6163  ,\n",
       "         891.8632  ,  896.1102  ,  900.3572  ,  904.6041  ,  908.8511  ,\n",
       "         913.0981  ,  917.34503 ,  921.592   ,  925.839   ,  930.08594 ,\n",
       "         934.3329  ,  938.5799  ,  942.82684 ,  947.0738  ,  951.3208  ,\n",
       "         955.56775 ,  959.8147  ,  964.0617  ,  968.30865 ,  972.5556  ,\n",
       "         976.8026  ,  981.04956 ,  985.2965  ,  989.5435  ,  993.79047 ,\n",
       "         998.0374  , 1002.2844  , 1006.5314  , 1010.7783  , 1015.02527 ,\n",
       "        1019.2723  , 1023.5192  , 1027.7662  , 1032.0132  , 1036.2601  ,\n",
       "        1040.5071  , 1044.754   , 1049.0011  , 1053.248   , 1057.495   ,\n",
       "        1061.742   , 1065.9889  , 1070.2358  , 1074.4828  , 1078.7299  ,\n",
       "        1082.9768  , 1087.2238  , 1091.4707  , 1095.7177  , 1099.9646  ,\n",
       "        1104.2117  , 1108.4586  , 1112.7056  , 1116.9525  , 1121.1995  ,\n",
       "        1125.4464  , 1129.6935  , 1133.9404  , 1138.1874  , 1142.4343  ,\n",
       "        1146.6813  , 1150.9282  , 1155.1753  , 1159.4222  , 1163.6692  ,\n",
       "        1167.9161  , 1172.1631  , 1176.41    , 1180.657   , 1184.904   ,\n",
       "        1189.151   , 1193.398   , 1197.6449  , 1201.8918  , 1206.1388  ,\n",
       "        1210.3859  , 1214.6328  , 1218.8798  , 1223.1267  , 1227.3737  ,\n",
       "        1231.6206  , 1235.8677  , 1240.1146  , 1244.3616  , 1248.6085  ,\n",
       "        1252.8555  , 1257.1024  , 1261.3495  , 1265.5964  , 1269.8434  ,\n",
       "        1274.0903  , 1278.3373  , 1282.5842  , 1286.8312  , 1291.0782  ,\n",
       "        1295.3252  , 1299.5721  , 1303.8191  , 1308.066   , 1312.313   ,\n",
       "        1316.56    , 1320.807   , 1325.054   , 1329.3009  , 1333.5479  ,\n",
       "        1337.7948  , 1342.0419  , 1346.2888  , 1350.5358  , 1354.7827  ,\n",
       "        1359.0297  , 1363.2766  , 1367.5237  , 1371.7706  , 1376.0176  ,\n",
       "        1380.2645  , 1384.5115  , 1388.7584  , 1393.0054  , 1397.2524  ,\n",
       "        1401.4994  , 1405.7463  , 1409.9933  , 1414.2402  , 1418.4872  ,\n",
       "        1422.7343  , 1426.9812  , 1431.2281  , 1435.4751  , 1439.722   ,\n",
       "        1443.969   , 1448.2161  , 1452.463   , 1456.71    , 1460.9569  ,\n",
       "        1465.2039  , 1469.4508  , 1473.6979  , 1477.9448  , 1482.1918  ,\n",
       "        1486.4387  , 1490.6857  , 1494.9326  , 1499.1796  , 1503.4266  ,\n",
       "        1507.6736  , 1511.9205  , 1516.1675  , 1520.4144  , 1524.6614  ,\n",
       "        1528.9084  , 1533.1554  , 1537.4023  , 1541.6493  , 1545.8962  ,\n",
       "        1550.1432  , 1554.3903  , 1558.6372  , 1562.8842  , 1567.1311  ,\n",
       "        1571.378   , 1575.625   , 1579.8721  , 1584.119   , 1588.366   ,\n",
       "        1592.6129  , 1596.8599  , 1601.1068  , 1605.3538  , 1609.6008  ,\n",
       "        1613.8478  , 1618.0947  , 1622.3417  , 1626.5886  , 1630.8356  ,\n",
       "        1635.0826  , 1639.3296  , 1643.5765  , 1647.8235  , 1652.0704  ,\n",
       "        1656.3174  , 1660.5645  , 1664.8114  , 1669.0583  , 1673.3053  ,\n",
       "        1677.5522  , 1681.7992  , 1686.0463  , 1690.2932  , 1694.5402  ,\n",
       "        1698.7871  , 1703.034   , 1707.281   , 1711.528   , 1715.775   ,\n",
       "        1720.022   , 1724.2689  , 1728.5159  , 1732.7628  , 1737.0098  ,\n",
       "        1741.2568  , 1745.5038  , 1749.7507  , 1753.9977  , 1758.2446  ,\n",
       "        1762.4916  , 1766.7386  , 1770.9856  , 1775.2325  , 1779.4795  ,\n",
       "        1783.7264  , 1787.9734  , 1792.2205  , 1796.4674  , 1800.7144  ,\n",
       "        1804.9613  , 1809.2083  , 1813.4552  , 1817.7021  , 1821.9492  ,\n",
       "        1826.1962  , 1830.4431  , 1834.6901  , 1838.937   , 1843.184   ,\n",
       "        1847.431   , 1851.678   , 1855.9249  , 1860.1719  , 1864.4188  ,\n",
       "        1868.6658  , 1872.9128  , 1877.1598  , 1881.4067  , 1885.6537  ,\n",
       "        1889.9006  , 1894.1476  , 1898.3947  , 1902.6416  , 1906.8885  ,\n",
       "        1911.1355  , 1915.3824  , 1919.6294  , 1923.8763  , 1928.1234  ,\n",
       "        1932.3704  , 1936.6173  , 1940.8643  , 1945.1112  , 1949.3582  ,\n",
       "        1953.6052  , 1957.8522  , 1962.0991  , 1966.3461  , 1970.593   ,\n",
       "        1974.84    , 1979.087   , 1983.334   , 1987.5809  , 1991.8279  ,\n",
       "        1996.0748  , 2000.3218  , 2004.5688  , 2008.8158  , 2013.0627  ,\n",
       "        2017.3097  , 2021.5566  , 2025.8036  , 2030.0505  , 2034.2976  ,\n",
       "        2038.5446  , 2042.7915  , 2047.0385  , 2051.2854  , 2055.5325  ,\n",
       "        2059.7793  , 2064.0264  , 2068.2732  , 2072.5203  , 2076.7673  ,\n",
       "        2081.0142  , 2085.2612  , 2089.508   , 2093.7551  , 2098.0022  ,\n",
       "        2102.249   , 2106.496   , 2110.743   , 2114.99    , 2119.2368  ,\n",
       "        2123.484   ], dtype=float32),\n",
       " [<matplotlib.patches.Polygon at 0x23d7e2d88c8>])"
      ]
     },
     "execution_count": 54,
     "metadata": {},
     "output_type": "execute_result"
    },
    {
     "data": {
      "image/png": "[encoded data removed]",
      "text/plain": [
       "<Figure size 720x360 with 1 Axes>"
      ]
     },
     "metadata": {
      "needs_background": "light"
     },
     "output_type": "display_data"
    }
   ],
   "source": [
    "histog = my_hand[my_hand >= 0]\n",
    "fig, ax = plt.subplots(figsize=(10,5))\n",
    "ax.hist(histog, bins=500, histtype='step', stacked=False)"
   ]
  },
  {
   "cell_type": "code",
   "execution_count": null,
   "id": "af749a16-25c5-4695-9a80-c2ab8699f7e8",
   "metadata": {},
   "outputs": [],
   "source": [
    "np.count_nonzero((my_hand > 0) & (my_hand < 1))"
   ]
  },
  {
   "cell_type": "code",
   "execution_count": null,
   "id": "b69ad1f7-48f8-4a8a-bec7-5410a511e61a",
   "metadata": {},
   "outputs": [],
   "source": []
  },
  {
   "cell_type": "code",
   "execution_count": null,
   "id": "51226f31-0b15-46f3-b0a0-248e1d77782e",
   "metadata": {},
   "outputs": [],
   "source": []
  },
  {
   "cell_type": "code",
   "execution_count": null,
   "id": "ff7ef80e-aeeb-430a-b410-f3bfe7953cae",
   "metadata": {},
   "outputs": [],
   "source": []
  },
  {
   "cell_type": "code",
   "execution_count": null,
   "id": "1d40f9a1-2918-48ad-a054-e66b315bb999",
   "metadata": {},
   "outputs": [],
   "source": []
  },
  {
   "cell_type": "code",
   "execution_count": null,
   "id": "c82881fd-9d26-4d9e-a278-c86bc4ebe012",
   "metadata": {},
   "outputs": [],
   "source": []
  },
  {
   "cell_type": "code",
   "execution_count": null,
   "id": "6e48d9d5-9c0a-472d-8dcc-d324cf040b89",
   "metadata": {},
   "outputs": [],
   "source": []
  },
  {
   "cell_type": "code",
   "execution_count": 48,
   "id": "127e07db-b467-43e7-a3ba-3602a6abe5d7",
   "metadata": {},
   "outputs": [
    {
     "data": {
      "text/plain": [
       "(array([7.6934551e+07, 3.2273781e+07, 1.8973141e+07, 1.2905719e+07,\n",
       "        9.5423500e+06, 7.4093510e+06, 5.9360120e+06, 4.9318360e+06,\n",
       "        3.9710200e+06, 3.2532960e+06, 2.8121570e+06, 2.5978630e+06,\n",
       "        2.1994990e+06, 1.8769260e+06, 1.5869350e+06, 1.4317780e+06,\n",
       "        1.2621460e+06, 9.5980600e+05, 7.5143500e+05, 5.6660500e+05,\n",
       "        4.8244800e+05, 4.1522600e+05, 3.6909200e+05, 3.0807100e+05,\n",
       "        2.9007700e+05, 2.6322000e+05, 2.4334100e+05, 2.2333400e+05,\n",
       "        2.0087100e+05, 1.8067200e+05, 1.5782100e+05, 1.3021400e+05,\n",
       "        1.0459100e+05, 8.7971000e+04, 7.2018000e+04, 5.8168000e+04,\n",
       "        4.5978000e+04, 4.0020000e+04, 3.5287000e+04, 2.7700000e+04,\n",
       "        1.9181000e+04, 1.4597000e+04, 1.1564000e+04, 7.6340000e+03,\n",
       "        4.8380000e+03, 2.8000000e+03, 1.6410000e+03, 8.2200000e+02,\n",
       "        4.3800000e+02, 1.5700000e+02]),\n",
       " array([3.81469727e-06, 4.24696808e+01, 8.49393616e+01, 1.27409035e+02,\n",
       "        1.69878708e+02, 2.12348389e+02, 2.54818069e+02, 2.97287750e+02,\n",
       "        3.39757416e+02, 3.82227112e+02, 4.24696777e+02, 4.67166443e+02,\n",
       "        5.09636139e+02, 5.52105835e+02, 5.94575500e+02, 6.37045166e+02,\n",
       "        6.79514832e+02, 7.21984497e+02, 7.64454224e+02, 8.06923889e+02,\n",
       "        8.49393555e+02, 8.91863220e+02, 9.34332886e+02, 9.76802612e+02,\n",
       "        1.01927228e+03, 1.06174194e+03, 1.10421167e+03, 1.14668127e+03,\n",
       "        1.18915100e+03, 1.23162061e+03, 1.27409033e+03, 1.31656006e+03,\n",
       "        1.35902966e+03, 1.40149939e+03, 1.44396899e+03, 1.48643872e+03,\n",
       "        1.52890845e+03, 1.57137805e+03, 1.61384778e+03, 1.65631738e+03,\n",
       "        1.69878711e+03, 1.74125684e+03, 1.78372644e+03, 1.82619617e+03,\n",
       "        1.86866577e+03, 1.91113550e+03, 1.95360522e+03, 1.99607483e+03,\n",
       "        2.03854456e+03, 2.08101416e+03, 2.12348389e+03], dtype=float32),\n",
       " [<matplotlib.patches.Polygon at 0x23d7d1a8b48>])"
      ]
     },
     "execution_count": 48,
     "metadata": {},
     "output_type": "execute_result"
    },
    {
     "data": {
      "image/png": "[encoded data removed]",
      "text/plain": [
       "<Figure size 720x360 with 1 Axes>"
      ]
     },
     "metadata": {
      "needs_background": "light"
     },
     "output_type": "display_data"
    }
   ],
   "source": [
    "histog = my_hand[my_hand > 0]\n",
    "fig, ax = plt.subplots(figsize=(10,5))\n",
    "ax.hist(histog, bins=50, histtype='stepfilled', stacked=False)"
   ]
  },
  {
   "cell_type": "code",
   "execution_count": 32,
   "id": "27d75bd2-8490-4c99-a9fc-275fc3a97c17",
   "metadata": {},
   "outputs": [
    {
     "data": {
      "text/plain": [
       "-1.0"
      ]
     },
     "execution_count": 32,
     "metadata": {},
     "output_type": "execute_result"
    }
   ],
   "source": [
    "my_hand[0, 0, 0]"
   ]
  },
  {
   "cell_type": "code",
   "execution_count": 29,
   "id": "2778ff3d-9110-43e9-aeab-9e7177b57b0d",
   "metadata": {},
   "outputs": [],
   "source": [
    "import numpy as np"
   ]
  },
  {
   "cell_type": "code",
   "execution_count": 30,
   "id": "b81a4d29-9738-4264-9be0-b63185e9f339",
   "metadata": {},
   "outputs": [
    {
     "data": {
      "text/plain": [
       "208534475"
      ]
     },
     "execution_count": 30,
     "metadata": {},
     "output_type": "execute_result"
    }
   ],
   "source": [
    "np.count_nonzero(my_hand == -1)"
   ]
  },
  {
   "cell_type": "code",
   "execution_count": 34,
   "id": "39d2b07a-65ed-4dbf-96d9-6aab7be869f6",
   "metadata": {},
   "outputs": [
    {
     "data": {
      "text/plain": [
       "5505926"
      ]
     },
     "execution_count": 34,
     "metadata": {},
     "output_type": "execute_result"
    }
   ],
   "source": [
    "np.count_nonzero(my_hand == 0)"
   ]
  },
  {
   "cell_type": "code",
   "execution_count": 43,
   "id": "678206da-9d52-44c3-8c77-6ca21637aea5",
   "metadata": {},
   "outputs": [
    {
     "data": {
      "text/plain": [
       "8151976"
      ]
     },
     "execution_count": 43,
     "metadata": {},
     "output_type": "execute_result"
    }
   ],
   "source": [
    "np.count_nonzero((my_hand > 0) & (my_hand < 1))"
   ]
  },
  {
   "cell_type": "code",
   "execution_count": 42,
   "id": "e18e5e05-ad3a-4c2b-8a22-406f8d2ba8bc",
   "metadata": {},
   "outputs": [
    {
     "data": {
      "text/plain": [
       "array([[[False, False, False, ..., False, False, False],\n",
       "        [False, False, False, ..., False, False, False],\n",
       "        [False, False, False, ..., False, False, False],\n",
       "        ...,\n",
       "        [False, False, False, ..., False, False, False],\n",
       "        [False, False, False, ..., False, False, False],\n",
       "        [False, False, False, ..., False, False, False]]])"
      ]
     },
     "execution_count": 42,
     "metadata": {},
     "output_type": "execute_result"
    }
   ],
   "source": [
    "(my_hand > 0) & (my_hand < 1)"
   ]
  },
  {
   "cell_type": "code",
   "execution_count": 4,
   "id": "ced7deb7-f8e6-4174-8aae-a7e4a40a2763",
   "metadata": {},
   "outputs": [],
   "source": [
    "src = rasterio.open(\".\\\\data\\\\dem_slo_07_HAND.tif\")"
   ]
  },
  {
   "cell_type": "code",
   "execution_count": 31,
   "id": "97cc36f9-8a09-4980-b560-415652870be6",
   "metadata": {},
   "outputs": [
    {
     "data": {
      "image/png": "[encoded data removed]",
      "text/plain": [
       "<Figure size 720x360 with 1 Axes>"
      ]
     },
     "metadata": {
      "needs_background": "light"
     },
     "output_type": "display_data"
    }
   ],
   "source": [
    "fig, ax = plt.subplots(figsize=(10,5))\n",
    "show_hist(\n",
    "    src, bins=25, lw=0.0, stacked=False, alpha=0.3,\n",
    "    histtype='stepfilled', title=\"Histogram\", ax=ax\n",
    ")"
   ]
  },
  {
   "cell_type": "code",
   "execution_count": 46,
   "id": "fb012582-4192-4676-a3fd-c360f321952c",
   "metadata": {},
   "outputs": [
    {
     "data": {
      "image/png": "[encoded data removed]",
      "text/plain": [
       "<Figure size 432x288 with 1 Axes>"
      ]
     },
     "metadata": {
      "needs_background": "light"
     },
     "output_type": "display_data"
    }
   ],
   "source": [
    "show_hist(\n",
    "    src, bins=[0.01, 0.99], stacked=False,\n",
    "    histtype='bar', title=\"Histogram\"\n",
    ")"
   ]
  },
  {
   "cell_type": "code",
   "execution_count": null,
   "id": "df3f2548-3cc5-4d8c-bc3f-e20395597042",
   "metadata": {},
   "outputs": [],
   "source": [
    "show_hist(\n",
    "    src, bins=50, stacked=False,\n",
    "    histtype='bar', title=\"Histogram\"\n",
    ")"
   ]
  },
  {
   "cell_type": "code",
   "execution_count": 6,
   "id": "3065efa9-af7e-4228-8a95-fecb619d8cd6",
   "metadata": {
    "tags": []
   },
   "outputs": [],
   "source": [
    "dem = rasterio.open(\".\\\\data\\\\dmv_10m_nd999.tif\")"
   ]
  },
  {
   "cell_type": "code",
   "execution_count": 21,
   "id": "eef93bac-3e62-459e-b2a1-8be38a8ce09b",
   "metadata": {},
   "outputs": [
    {
     "data": {
      "image/png": "[encoded data removed]",
      "text/plain": [
       "<Figure size 432x288 with 1 Axes>"
      ]
     },
     "metadata": {
      "needs_background": "light"
     },
     "output_type": "display_data"
    }
   ],
   "source": [
    "show_hist(\n",
    "    dem, bins=50, lw=0.0, stacked=False, alpha=0.3,\n",
    "    histtype='stepfilled', title=\"Histogram\"\n",
    ")"
   ]
  },
  {
   "cell_type": "markdown",
   "id": "b63bb51f-2dcb-4bf7-be77-5912c8d0fff5",
   "metadata": {},
   "source": [
    "# DrUGA METODA"
   ]
  },
  {
   "cell_type": "code",
   "execution_count": 17,
   "id": "56e18c4c-1da4-4753-bdb5-749057591308",
   "metadata": {},
   "outputs": [
    {
     "ename": "AttributeError",
     "evalue": "'DatasetReader' object has no attribute 'plot'",
     "output_type": "error",
     "traceback": [
      "\u001b[1;31m---------------------------------------------------------------------------\u001b[0m",
      "\u001b[1;31mAttributeError\u001b[0m                            Traceback (most recent call last)",
      "\u001b[1;32m~\\AppData\\Local\\Temp/ipykernel_1260/1806602713.py\u001b[0m in \u001b[0;36m<module>\u001b[1;34m\u001b[0m\n\u001b[0;32m      1\u001b[0m \u001b[1;31m# Plot a histogram\u001b[0m\u001b[1;33m\u001b[0m\u001b[1;33m\u001b[0m\u001b[1;33m\u001b[0m\u001b[0m\n\u001b[0;32m      2\u001b[0m \u001b[0mf\u001b[0m\u001b[1;33m,\u001b[0m \u001b[0max\u001b[0m \u001b[1;33m=\u001b[0m \u001b[0mplt\u001b[0m\u001b[1;33m.\u001b[0m\u001b[0msubplots\u001b[0m\u001b[1;33m(\u001b[0m\u001b[0mfigsize\u001b[0m\u001b[1;33m=\u001b[0m\u001b[1;33m(\u001b[0m\u001b[1;36m10\u001b[0m\u001b[1;33m,\u001b[0m \u001b[1;36m6\u001b[0m\u001b[1;33m)\u001b[0m\u001b[1;33m)\u001b[0m\u001b[1;33m\u001b[0m\u001b[1;33m\u001b[0m\u001b[0m\n\u001b[1;32m----> 3\u001b[1;33m src.plot.hist(ax=ax,\n\u001b[0m\u001b[0;32m      4\u001b[0m               \u001b[0mcolor\u001b[0m\u001b[1;33m=\u001b[0m\u001b[1;34m\"purple\"\u001b[0m\u001b[1;33m,\u001b[0m\u001b[1;33m\u001b[0m\u001b[1;33m\u001b[0m\u001b[0m\n\u001b[0;32m      5\u001b[0m               bins=2)\n",
      "\u001b[1;31mAttributeError\u001b[0m: 'DatasetReader' object has no attribute 'plot'"
     ]
    },
    {
     "data": {
      "image/png": "[encoded data removed]",
      "text/plain": [
       "<Figure size 720x432 with 1 Axes>"
      ]
     },
     "metadata": {
      "needs_background": "light"
     },
     "output_type": "display_data"
    }
   ],
   "source": [
    "# Plot a histogram\n",
    "f, ax = plt.subplots(figsize=(10, 6))\n",
    "src.plot.hist(ax=ax,\n",
    "              color=\"purple\",\n",
    "              bins=2)\n",
    "ax.set(title=\"Distribution of Lidar DEM Elevation Values\",\n",
    "       xlabel='Elevation (meters)',\n",
    "       ylabel='Frequency')\n",
    "plt.show()"
   ]
  }
 ],
 "metadata": {
  "kernelspec": {
   "display_name": "Python 3 (ipykernel)",
   "language": "python",
   "name": "python3"
  },
  "language_info": {
   "codemirror_mode": {
    "name": "ipython",
    "version": 3
   },
   "file_extension": ".py",
   "mimetype": "text/x-python",
   "name": "python",
   "nbconvert_exporter": "python",
   "pygments_lexer": "ipython3",
   "version": "3.7.10"
  }
 },
 "nbformat": 4,
 "nbformat_minor": 5
}
