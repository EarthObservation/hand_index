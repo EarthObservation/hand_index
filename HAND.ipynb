{
 "cells": [
  {
   "cell_type": "markdown",
   "metadata": {},
   "source": [
    "# HAND INDEX procedure"
   ]
  },
  {
   "cell_type": "markdown",
   "metadata": {},
   "source": [
    "Here, add a description of this thing!"
   ]
  },
  {
   "cell_type": "markdown",
   "metadata": {},
   "source": []
  },
  {
   "cell_type": "markdown",
   "metadata": {},
   "source": [
    "## 0. Initalize\n",
    "\n",
    "- import required modules\n",
    "- set paths to source files\n",
    "- obtain propertis of input DEM"
   ]
  },
  {
   "cell_type": "code",
   "execution_count": 1,
   "metadata": {},
   "outputs": [],
   "source": [
    "from os.path import join\n",
    "\n",
    "class MyPath:\n",
    "    \"\"\"Creates path for various files\"\"\"\n",
    "    def __init__(self, main_dir, file_name):\n",
    "        self.main_dir = main_dir\n",
    "        self.main_name = file_name\n",
    "        self.path_wo_ext = join(main_dir, file_name)\n",
    "    \n",
    "    def tif(self, extension=None):\n",
    "        if extension:\n",
    "            new_path = self.path_wo_ext + extension + \".tif\"\n",
    "        else:\n",
    "            new_path = self.path_wo_ext + \".tif\"\n",
    "        return new_path"
   ]
  },
  {
   "cell_type": "code",
   "execution_count": 2,
   "metadata": {},
   "outputs": [],
   "source": [
    "import subprocess\n",
    "import os\n",
    "import rasterio\n",
    "from osgeo import gdal\n",
    "from pyproj.crs import CRS"
   ]
  },
  {
   "cell_type": "code",
   "execution_count": 9,
   "metadata": {},
   "outputs": [
    {
     "name": "stdout",
     "output_type": "stream",
     "text": [
      "Check paths:\n",
      "DEM    : c:\\Users\\ncoz\\ARRS_susa\\dmv_10m.tif\n",
      "Nodes  : c:\\Users\\ncoz\\ARRS_susa\\DRSV_HIDRO5_LIN_PV\\DRSV_HIDRO5_LIN_PV.shp\n",
      "Streams: c:\\Users\\ncoz\\ARRS_susa\\DRSV_HIDRO5_LIN_PV\\DRSV_HIDRO5_LIN_PV_vertices.shp\n",
      "\n",
      "Check DEM propertis:\n",
      "BoundingBox(left=374000.0, bottom=31000.0, right=624010.0, top=195000.0)\n",
      "(10.0, 10.0)\n",
      "\n",
      "Outputs will be stored to:\n",
      "C:\\Users\\ncoz\\ARRS_susa\\full_slo_00\n"
     ]
    }
   ],
   "source": [
    "# # Path to gdal command line programs\n",
    "# path_gdal = \"C:\\\\Program Files\\\\GDAL\"\n",
    "\n",
    "# Set output directory and name\n",
    "case_dir = \"full_slo_00\"\n",
    "# case_dir = \"raw_sample\"\n",
    "work_dir = \"C:\\\\Users\\\\ncoz\\\\ARRS_susa\"\n",
    "out_dir = os.path.join(work_dir, case_dir)\n",
    "os.makedirs(out_dir, exist_ok=True)\n",
    "\n",
    "# Main name for out files, e.g. dem_<out_nam>_ext.tif\n",
    "out_nam = \"si_mosaic_00\"\n",
    "\n",
    "# Input DEM\n",
    "dem_original = \"c:\\\\Users\\\\ncoz\\\\ARRS_susa\\\\dmv_10m.tif\"\n",
    "\n",
    "# Input SHP files\n",
    "stream_in = \"c:\\\\Users\\\\ncoz\\\\ARRS_susa\\\\DRSV_HIDRO5_LIN_PV\\\\DRSV_HIDRO5_LIN_PV.shp\"\n",
    "nodes_in = \"c:\\\\Users\\\\ncoz\\\\ARRS_susa\\\\DRSV_HIDRO5_LIN_PV\\\\DRSV_HIDRO5_LIN_PV_vertices.shp\"\n",
    "\n",
    "# Create path objects\n",
    "dem = MyPath(out_dir, \"dem_\" + out_nam)\n",
    "stream = MyPath(out_dir, \"streams_\" + out_nam)\n",
    "nodes = MyPath(out_dir, \"nodes_\" + out_nam)\n",
    "\n",
    "# TauDEM MPI settings to enable parallel computations\n",
    "mpi_settings = [\"mpiexec\", \"-n\", \"8\"]\n",
    "\n",
    "# Get extent and epsg code of dem\n",
    "with rasterio.open(dem_original) as ds:\n",
    "    dem_bb = ds.bounds\n",
    "    dem_res = ds.res\n",
    "    dem_meta = ds.profile\n",
    "\n",
    "# Assign CRS from pyproj\n",
    "slo_crs = CRS.from_epsg(3794)\n",
    "\n",
    "print(\"Check paths:\")\n",
    "if os.path.exists(dem_original):\n",
    "    print(f\"DEM    : {dem_original}\")\n",
    "if os.path.exists(stream_in):\n",
    "    print(f\"Nodes  : {stream_in}\")\n",
    "if os.path.exists(nodes_in):\n",
    "    print(f\"Streams: {nodes_in}\")\n",
    "print(\"\\nCheck DEM propertis:\")\n",
    "print(dem_bb)\n",
    "print(dem_res)\n",
    "print(\"\\nOutputs will be stored to:\")\n",
    "print(out_dir)"
   ]
  },
  {
   "cell_type": "markdown",
   "metadata": {},
   "source": [
    "## 1. Rasterize shape files\n",
    "\n",
    "- streams file (line features)\n",
    "- nodes file (point features)"
   ]
  },
  {
   "cell_type": "code",
   "execution_count": 10,
   "metadata": {},
   "outputs": [
    {
     "data": {
      "text/plain": [
       "0"
      ]
     },
     "execution_count": 10,
     "metadata": {},
     "output_type": "execute_result"
    }
   ],
   "source": [
    "# Rasterize streams to match DEM\n",
    "subprocess.call(\n",
    "    \" \".join([\n",
    "        \"gdal_rasterize\",\n",
    "        \"-burn\", \"1\",\n",
    "        \"-co\", \"COMPRESS=LZW\",\n",
    "        \"-init\", \"0\",\n",
    "        \"-tap\",\n",
    "        \"-ot\", \"Byte\",\n",
    "        \"-te\", \" \".join([str(i) for i in list(dem_bb)]),\n",
    "        \"-tr\", str(dem_res[0]) + \" \" + str(dem_res[1]),\n",
    "        stream_in,\n",
    "        stream.tif()\n",
    "    ])\n",
    ")"
   ]
  },
  {
   "cell_type": "code",
   "execution_count": 11,
   "metadata": {},
   "outputs": [
    {
     "data": {
      "text/plain": [
       "0"
      ]
     },
     "execution_count": 11,
     "metadata": {},
     "output_type": "execute_result"
    }
   ],
   "source": [
    "# Rasterize vertices to match DEM\n",
    "subprocess.call(\n",
    "    \" \".join([\n",
    "        \"gdal_rasterize\",\n",
    "        \"-burn\", \"1\",\n",
    "        \"-co\", \"COMPRESS=LZW\",\n",
    "        \"-init\", \"0\",\n",
    "        \"-tap\",\n",
    "        \"-ot\", \"Byte\",\n",
    "        \"-te\", \" \".join([str(i) for i in list(dem_bb)]),\n",
    "        \"-tr\", str(dem_res[0]) + \" \" + str(dem_res[1]),\n",
    "        nodes_in,\n",
    "        nodes.tif()\n",
    "    ])\n",
    ")"
   ]
  },
  {
   "cell_type": "markdown",
   "metadata": {},
   "source": [
    "## 1. Preparation of the elevation model"
   ]
  },
  {
   "cell_type": "markdown",
   "metadata": {},
   "source": [
    "### Burn streams into DEM (optional)\n",
    "\n",
    "Basically we force breach any potential obsticals in the downhill path of the streams.\n",
    "\n",
    "IN:\n",
    "- original (input) DEM\n",
    "- rasterized streams `strem.tif`\n",
    "\n",
    "OUT:\n",
    "- DEM with burned-in streams `dem_burned.tif`"
   ]
  },
  {
   "cell_type": "code",
   "execution_count": 12,
   "metadata": {},
   "outputs": [
    {
     "name": "stdout",
     "output_type": "stream",
     "text": [
      "(1, 16400, 25001)\n",
      "(1, 16400, 25001)\n",
      "DONE!\n"
     ]
    }
   ],
   "source": [
    "# Burn streams into dem\n",
    "src_a = rasterio.open(dem_original)\n",
    "src_b = rasterio.open(stream.tif())\n",
    "\n",
    "# Create output raster\n",
    "output_file = dem.tif(\"_burn\")\n",
    "out_meta = src_a.profile.copy()\n",
    "\n",
    "grid_a = src_a.read()\n",
    "grid_b = src_b.read()\n",
    "\n",
    "print(grid_a.shape)\n",
    "print(grid_b.shape)\n",
    "\n",
    "grid_out = (grid_a - (grid_b * 100))\n",
    "\n",
    "out_meta.update({\"crs\":slo_crs})\n",
    "\n",
    "with rasterio.open(output_file, \"w\", **out_meta) as dest:\n",
    "    dest.write(grid_out)\n",
    "\n",
    "src_a.close()\n",
    "src_b.close()\n",
    "\n",
    "print(\"DONE!\")"
   ]
  },
  {
   "cell_type": "markdown",
   "metadata": {},
   "source": [
    "### Fill pits\n",
    "Filling pits prevents localized depressions and fill in the burned-in streams from previous step. If \"burn\" step was skipped, fill pits on the source DEM.\n",
    "\n",
    "IN:\n",
    "- DEM with burned in rasterized strems: `dem_burn.tif`\n",
    "\n",
    "OUT:\n",
    "- Pit-filled DEM with burned in streams: `dem_burn_fel.tif`"
   ]
  },
  {
   "cell_type": "code",
   "execution_count": 13,
   "metadata": {},
   "outputs": [],
   "source": [
    "# Fill pits\n",
    "subprocess.call(\n",
    "    mpi_settings + [\n",
    "        \"pitremove\", \n",
    "        \"-z\", dem.tif(\"_burn\"),\n",
    "        \"-fel\", dem.tif(\"_burn_fel\")\n",
    "    ]\n",
    ")\n",
    "with rasterio.open(dem.tif(\"_burn_fel\"), \"r+\") as rio:\n",
    "    rio.crs = slo_crs"
   ]
  },
  {
   "cell_type": "markdown",
   "metadata": {},
   "source": [
    "### Determine flow directions\n",
    "Gives two rasters. In the first one, each pixel has value 1-8, representing the direction of the flow in that pixel. The other raster provides slope angles for each pixel.\n",
    "\n",
    "IN:\n",
    "- Pit-filled DEM with burned in streams: `dem_burn_fel.tif`\n",
    "\n",
    "OUT:\n",
    "- Flow directions: `dem_burn_fel_p.tif`\n",
    "- Slope: `dem_burn_fel_sd8.tif`"
   ]
  },
  {
   "cell_type": "code",
   "execution_count": null,
   "metadata": {},
   "outputs": [],
   "source": [
    "# Determine flow dirs\n",
    "subprocess.call(\n",
    "    mpi_settings + [\n",
    "        \"d8flowdir\",\n",
    "        \"-fel\", dem.tif(\"_burn_fel\"),\n",
    "        \"-p\", dem.tif(\"_burn_fel_p\"),\n",
    "        \"-sd8\", dem.tif(\"_burn_fel_sd8\")\n",
    "    ]\n",
    ")\n",
    "with rasterio.open(dem.tif(\"_burn_fel_p\"), \"r+\") as rio:\n",
    "    rio.crs = slo_crs\n",
    "with rasterio.open(dem.tif(\"_burn_fel_sd8\"), \"r+\") as rio:\n",
    "    rio.crs = slo_crs"
   ]
  },
  {
   "cell_type": "markdown",
   "metadata": {},
   "source": [
    "### Mask streams"
   ]
  },
  {
   "cell_type": "code",
   "execution_count": 10,
   "metadata": {
    "scrolled": true
   },
   "outputs": [
    {
     "name": "stdout",
     "output_type": "stream",
     "text": [
      "(1, 1700, 1700)\n",
      "(1, 1700, 1700)\n",
      "DONE!\n"
     ]
    }
   ],
   "source": [
    "# Mask flow dirs by streams\n",
    "src_a = rasterio.open(dem.tif(\"_burn_fel_p\"))\n",
    "src_b = rasterio.open(stream.tif())\n",
    "\n",
    "# Create output raster\n",
    "output_file = dem.tif(\"_burn_fel_p_masked\")\n",
    "out_meta = src_a.profile.copy()\n",
    "\n",
    "grid_a = src_a.read()\n",
    "grid_b = src_b.read()\n",
    "\n",
    "print(grid_a.shape)\n",
    "print(grid_b.shape)\n",
    "\n",
    "grid_out = (grid_a * grid_b)\n",
    "\n",
    "out_meta.update({\"crs\":slo_crs,\n",
    "                 \"dtype\":'int16'})\n",
    "\n",
    "with rasterio.open(output_file, \"w\", **out_meta) as dest:\n",
    "    dest.write(grid_out)\n",
    "\n",
    "src_a.close()\n",
    "src_b.close()\n",
    "\n",
    "print(\"DONE!\")"
   ]
  },
  {
   "cell_type": "markdown",
   "metadata": {},
   "source": [
    "### Conditioned dem\n",
    "This is final product of this step."
   ]
  },
  {
   "cell_type": "code",
   "execution_count": 11,
   "metadata": {},
   "outputs": [],
   "source": [
    "# Condition DEM\n",
    "subprocess.call(\n",
    "    mpi_settings + [\n",
    "        \"flowdircond\",\n",
    "        \"-z\", dem_original,\n",
    "        \"-p\", dem.tif(\"_burn_fel_p_masked\"),\n",
    "        \"-zfdc\", dem.tif(\"_cond\")\n",
    "    ]\n",
    ")\n",
    "with rasterio.open(dem.tif(\"_cond\"), \"r+\") as rio:\n",
    "    rio.crs = slo_crs"
   ]
  },
  {
   "cell_type": "markdown",
   "metadata": {},
   "source": [
    "## 2. Pre-processing\n",
    "\n",
    "Using the conditioned elevation model we adopt the traditional steps of filling any remaining pits, calculating flow directions and delineating a stream network using the start/end points as weights. This stream network is close to the observed stream network I downloaded, with the difference that this is consistent with flow directions obtained from the digital elevation model."
   ]
  },
  {
   "cell_type": "markdown",
   "metadata": {},
   "source": [
    "### Remove pits on conditioned DEM\n",
    "\n",
    "Use the first cell if pre-processing of DEM was skipped.\n",
    "\n",
    "The Second cell is default for a preprocessed DEM."
   ]
  },
  {
   "cell_type": "code",
   "execution_count": null,
   "metadata": {},
   "outputs": [],
   "source": [
    "# USE THIS CELL IF THE PRE-PROCESSING OF DEM HAS BEEN SKIPPED\n",
    "subprocess.call(\n",
    "    mpi_settings + [\n",
    "        \"pitremove\", \n",
    "        \"-z\", \"-z\", dem.tif(\"_cond\"),,\n",
    "        \"-fel\", dem.tif(\"_cond_fel\")\n",
    "    ]\n",
    ")\n",
    "with rasterio.open(dem.tif(\"_cond_fel\"), \"r+\") as rio:\n",
    "    rio.crs = slo_crs"
   ]
  },
  {
   "cell_type": "code",
   "execution_count": 7,
   "metadata": {},
   "outputs": [],
   "source": [
    "# Remove pits on conditioned DEM\n",
    "subprocess.call(\n",
    "    mpi_settings + [\n",
    "        \"pitremove\", \n",
    "        \"-z\", \"-z\", dem.tif(\"_cond\"),,\n",
    "        \"-fel\", dem.tif(\"_cond_fel\")\n",
    "    ]\n",
    ")\n",
    "with rasterio.open(dem.tif(\"_cond_fel\"), \"r+\") as rio:\n",
    "    rio.crs = slo_crs"
   ]
  },
  {
   "cell_type": "markdown",
   "metadata": {},
   "source": [
    "### Determine flow directions on conditioned DEM\n",
    "Standar procedure."
   ]
  },
  {
   "cell_type": "code",
   "execution_count": 8,
   "metadata": {},
   "outputs": [],
   "source": [
    "# Determine flow dirs on conditioned dem\n",
    "subprocess.call(\n",
    "    mpi_settings + [\n",
    "        \"d8flowdir\",\n",
    "        \"-fel\", dem.tif(\"_cond_fel\"),\n",
    "        \"-p\", dem.tif(\"_cond_fel_p\"),\n",
    "        \"-sd8\", dem.tif(\"_cond_fel_sd8\")\n",
    "    ]\n",
    ")\n",
    "with rasterio.open(dem.tif(\"_cond_fel_p\"), \"r+\") as rio:\n",
    "    rio.crs = slo_crs\n",
    "with rasterio.open(dem.tif(\"_cond_fel_sd8\"), \"r+\") as rio:\n",
    "    rio.crs = slo_crs"
   ]
  },
  {
   "cell_type": "markdown",
   "metadata": {},
   "source": [
    "### Flow accumulation"
   ]
  },
  {
   "cell_type": "code",
   "execution_count": 9,
   "metadata": {},
   "outputs": [],
   "source": [
    "# Flow accumulation on conditioned dem\n",
    "subprocess.call(\n",
    "    mpi_settings + [\n",
    "        \"aread8\", \n",
    "        \"-p\", dem.tif(\"_cond_fel_p\"),\n",
    "        \"-ad8\", dem.tif(\"_cond_fel_p_ad8\")])\n",
    "with rasterio.open(dem.tif(\"_cond_fel_p_ad8\"), \"r+\") as rio:\n",
    "    rio.crs = slo_crs"
   ]
  },
  {
   "cell_type": "markdown",
   "metadata": {},
   "source": [
    "### Flow accumulation weighted by stream nodes\n",
    "\n",
    "Here is the only place I am using strem nodes extrated from stream vector file."
   ]
  },
  {
   "cell_type": "code",
   "execution_count": 10,
   "metadata": {},
   "outputs": [],
   "source": [
    "# Flow accumulation weighted by stream start and end points\n",
    "subprocess.call(\n",
    "    mpi_settings + [\n",
    "        \"aread8\", \n",
    "        \"-p\", dem.tif(\"_cond_fel_p\"),\n",
    "        \"-ad8\", dem.tif(\"_cond_fel_p_ssa\"),\n",
    "        \"-wg\", nodes.tif()\n",
    "    ]\n",
    ")\n",
    "with rasterio.open(dem.tif(\"_cond_fel_p_ssa\"), \"r+\") as rio:\n",
    "    rio.crs = slo_crs"
   ]
  },
  {
   "cell_type": "markdown",
   "metadata": {},
   "source": [
    "### Delineate streams by threshold\n",
    "In literature threshold 50 is suggested?!?!"
   ]
  },
  {
   "cell_type": "code",
   "execution_count": 11,
   "metadata": {},
   "outputs": [],
   "source": [
    "# Delineate streams by threshold\n",
    "subprocess.call(\n",
    "    mpi_settings + [\n",
    "        \"threshold\", \n",
    "        \"-ssa\", dem.tif(\"_cond_fel_p_ssa\"),\n",
    "        \"-src\", dem.tif(\"_cond_fel_p_ssa_src\"),\n",
    "        \"-thresh\", \"1\"\n",
    "    ]\n",
    ")\n",
    "with rasterio.open(dem.tif(\"_cond_fel_p_ssa_src\"), \"r+\") as rio:\n",
    "    rio.crs = slo_crs"
   ]
  },
  {
   "cell_type": "markdown",
   "metadata": {},
   "source": [
    "## Calculate HAND\n",
    "\n",
    "Finally, we calculate D-Inf flow directions and HAND. The result is a grid where each cell denotes the vertical height above the nearest stream, with “nearest” being the nearest stream cell in along the D-Inf flowpath. In the final step, we use some raster math to assign zero to the coastal area for which HAND has not been calculated."
   ]
  },
  {
   "cell_type": "code",
   "execution_count": 12,
   "metadata": {},
   "outputs": [],
   "source": [
    "# Calculate infinity flow directions\n",
    "subprocess.call(\n",
    "    mpi_settings + [\n",
    "        \"dinfflowdir\",\n",
    "        \"-fel\", dem.tif(\"_cond_fel\"),\n",
    "        \"-slp\", dem.tif(\"_cond_fel_slp\"),\n",
    "        \"-ang\", dem.tif(\"_cond_fel_ang\")\n",
    "    ]\n",
    ")\n",
    "with rasterio.open(dem.tif(\"_cond_fel_slp\"), \"r+\") as rio:\n",
    "    rio.crs = slo_crs\n",
    "with rasterio.open(dem.tif(\"_cond_fel_ang\"), \"r+\") as rio:\n",
    "    rio.crs = slo_crs"
   ]
  },
  {
   "cell_type": "code",
   "execution_count": 13,
   "metadata": {},
   "outputs": [
    {
     "data": {
      "text/plain": [
       "0"
      ]
     },
     "execution_count": 13,
     "metadata": {},
     "output_type": "execute_result"
    }
   ],
   "source": [
    "# Calculate HAND raster\n",
    "subprocess.call(\n",
    "    mpi_settings + [\n",
    "        \"dinfdistdown\",\n",
    "        \"-fel\", dem.tif(\"_cond_fel\"),\n",
    "        \"-slp\", dem.tif(\"_cond_fel_slp\"),\n",
    "        \"-ang\", dem.tif(\"_cond_fel_ang\"),\n",
    "        \"-src\", dem.tif(\"_cond_fel_p_ssa_src\"),\n",
    "        \"-dd\", dem.tif(\"_cond_HAND\"),\n",
    "        \"-m\",  \"v\",  \"ave\"\n",
    "    ]\n",
    ")"
   ]
  },
  {
   "cell_type": "markdown",
   "metadata": {},
   "source": [
    "### Some post-processig to make it look nicer\n",
    "Set nodata to 0, lso we dont get wird gaps on the edges."
   ]
  },
  {
   "cell_type": "code",
   "execution_count": 14,
   "metadata": {},
   "outputs": [
    {
     "name": "stdout",
     "output_type": "stream",
     "text": [
      "DONE!\n"
     ]
    }
   ],
   "source": [
    "# Fill HAND raster with zero on land surfaces where HAND is nodata\n",
    "with rasterio.open(dem.tif(\"_cond_HAND\")) as grid:\n",
    "    handgrid = grid.read()\n",
    "    handmeta = grid.profile\n",
    "\n",
    "handgrid[handgrid < 0] = 0\n",
    "\n",
    "# This one is used to set all nodata from original dem to -1\n",
    "with rasterio.open(dem_original) as grid:\n",
    "    demgrid = grid.read()\n",
    "    demmeta = grid.profile\n",
    "\n",
    "handgrid[demgrid == -9999] = -1\n",
    "\n",
    "handmeta[\"nodata\"] = -1\n",
    "handmeta.update({\"crs\":slo_crs})\n",
    "\n",
    "with rasterio.open(dem.tif(\"_cond_HAND_zeroes\"), \"w\", **handmeta) as dst:\n",
    "    dst.write(handgrid)\n",
    "\n",
    "print(\"DONE!\")"
   ]
  }
 ],
 "metadata": {
  "kernelspec": {
   "display_name": "Python 3",
   "language": "python",
   "name": "python3"
  },
  "language_info": {
   "codemirror_mode": {
    "name": "ipython",
    "version": 3
   },
   "file_extension": ".py",
   "mimetype": "text/x-python",
   "name": "python",
   "nbconvert_exporter": "python",
   "pygments_lexer": "ipython3",
   "version": "3.8.5"
  },
  "toc": {
   "base_numbering": 1,
   "nav_menu": {},
   "number_sections": true,
   "sideBar": true,
   "skip_h1_title": true,
   "title_cell": "Table of Contents",
   "title_sidebar": "Contents",
   "toc_cell": false,
   "toc_position": {},
   "toc_section_display": true,
   "toc_window_display": false
  }
 },
 "nbformat": 4,
 "nbformat_minor": 4
}
