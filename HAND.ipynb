{
 "cells": [
  {
   "cell_type": "markdown",
   "metadata": {},
   "source": [
    "# HAND INDEX procedure"
   ]
  },
  {
   "cell_type": "markdown",
   "metadata": {},
   "source": [
    "Procedure calculates HAND index from given DEM.\n",
    "\n",
    "INPUT:\n",
    "- DEM (*.tif)\n",
    "- Stream Network (*.shp, lines vector layer)\n",
    "- Stream nodes (*.shp, points vector layer)\n",
    "\n",
    "Requirements:\n",
    "- install TauDEM tools and set PATH\n",
    "- install GDAL and set PATH\n",
    "- install MinGW (for parallel mode)\n",
    "\n",
    "NOTE:\n",
    "It is desired that DEM contains the entire reach.\n",
    "- aread8 (TauDEM): \n",
    "`By default, the tool checks for edge contamination. This is defined as the possibility that a contributing area value may be underestimated due to grid cells outside of the domain not being counted. This occurs when drainage is inwards from the boundaries or areas with no data values for elevation. The algorithm recognizes this and reports \"no data\" for the contributing area. It is common to see streaks of \"no data\" values extending inwards from boundaries along flow paths that enter the domain at a boundary. This is the desired effect and indicates that contributing area for these grid cells is unknown due to it being dependent on terrain outside of the domain of data available. Edge contamination checking may be turned off in cases where you know this is not an issue or want to ignore these problems, if for example, the DEM has been clipped along a watershed outline.`"
   ]
  },
  {
   "cell_type": "markdown",
   "metadata": {},
   "source": [
    "## 0. Initalize\n",
    "\n",
    "- import required modules\n",
    "- set paths to source files\n",
    "- obtain propertis of input DEM"
   ]
  },
  {
   "cell_type": "code",
   "execution_count": 1,
   "metadata": {},
   "outputs": [],
   "source": [
    "from os.path import join\n",
    "\n",
    "class MyPath:\n",
    "    \"\"\"Creates path for various files\"\"\"\n",
    "    def __init__(self, main_dir, file_name):\n",
    "        self.main_dir = main_dir\n",
    "        self.main_name = file_name\n",
    "        self.path_wo_ext = join(main_dir, file_name)\n",
    "    \n",
    "    def tif(self, extension=None):\n",
    "        if extension:\n",
    "            new_path = self.path_wo_ext + extension + \".tif\"\n",
    "        else:\n",
    "            new_path = self.path_wo_ext + \".tif\"\n",
    "        return new_path"
   ]
  },
  {
   "cell_type": "code",
   "execution_count": 2,
   "metadata": {},
   "outputs": [],
   "source": [
    "import subprocess\n",
    "import os\n",
    "import rasterio\n",
    "from osgeo import gdal\n",
    "from pyproj.crs import CRS"
   ]
  },
  {
   "cell_type": "code",
   "execution_count": 3,
   "metadata": {},
   "outputs": [],
   "source": [
    "# INPUT PATHS\n",
    "\n",
    "# Input DEM\n",
    "# dem_original = \"c:\\\\Users\\\\ncoz\\\\ARRS_susa\\\\dmv_10m.tif\"\n",
    "# dem_original = \"c:\\\\Users\\\\ncoz\\\\ARRS_susa\\\\raw_sample\\\\sample_DEM_454_84_tap.tif\"\n",
    "# dem_original = \"c:\\\\Users\\\\ncoz\\\\ARRS_susa\\\\sample_dmv_529_144.tif\"\n",
    "dem_original = \"c:\\\\Users\\\\ncoz\\\\hand_index\\\\dmv_10m_nd999.tif\"\n",
    "\n",
    "# Input SHP files\n",
    "# streams_in = \"c:\\\\Users\\\\ncoz\\\\ARRS_susa\\\\DRSV_HIDRO5_LIN_PV\\\\DRSV_HIDRO5_LIN_PV.shp\"\n",
    "# nodes_in = \"c:\\\\Users\\\\ncoz\\\\ARRS_susa\\\\DRSV_HIDRO5_LIN_PV\\\\DRSV_HIDRO5_LIN_PV_vertices.shp\"\n",
    "# streams_in = \"c:\\\\Users\\\\ncoz\\\\hand_index\\\\DRSV_HIDRO5_LIN_PV\\DRSV_HIDRO5_LIN_PV.shp\"\n",
    "# nodes_in = \"c:\\\\Users\\\\ncoz\\\\hand_index\\\\DRSV_HIDRO5_LIN_PV\\DRSV_HIDRO5_LIN_PV_vertices.shp\"\n",
    "streams_in = \"c:\\\\Users\\\\ncoz\\\\hand_index\\\\DRSV_HIDRO5_LIN_PV\\DRSV_HIDRO5_LIN_PV_filter_tiptv_1_5_stanje_4.shp\"\n",
    "nodes_in = \"c:\\\\Users\\\\ncoz\\\\hand_index\\\\DRSV_HIDRO5_LIN_PV\\DRSV_HIDRO5_LIN_PV_filter_tiptv_1_5_stanje_4_vertices.shp\""
   ]
  },
  {
   "cell_type": "code",
   "execution_count": 4,
   "metadata": {},
   "outputs": [],
   "source": [
    "# IMPORTANT PARAMETERS\n",
    "\n",
    "# Main working directory\n",
    "# work_dir = \"C:\\\\Users\\\\ncoz\\\\ARRS_susa\"\n",
    "work_dir = \"C:\\\\Users\\\\ncoz\\\\hand_index\"\n",
    "\n",
    "# Folder to be put in the main directory for saving results\n",
    "case_dir = \"slo_03\"\n",
    "\n",
    "# Main name for out files, e.g. dem_<out_nam>_ext.tif\n",
    "out_nam = \"slo_03\"\n",
    "\n",
    "# Use nodes\n",
    "use_nodes = True"
   ]
  },
  {
   "cell_type": "code",
   "execution_count": 5,
   "metadata": {},
   "outputs": [],
   "source": [
    "# Create output folder\n",
    "out_dir = os.path.join(work_dir, case_dir)\n",
    "os.makedirs(out_dir, exist_ok=True)"
   ]
  },
  {
   "cell_type": "code",
   "execution_count": 6,
   "metadata": {},
   "outputs": [
    {
     "name": "stdout",
     "output_type": "stream",
     "text": [
      "Check paths:\n",
      "DEM    : c:\\Users\\ncoz\\hand_index\\dmv_10m_nd999.tif\n",
      "Nodes  : c:\\Users\\ncoz\\hand_index\\DRSV_HIDRO5_LIN_PV\\DRSV_HIDRO5_LIN_PV_filter_tiptv_1_5_stanje_4.shp\n",
      "Streams: c:\\Users\\ncoz\\hand_index\\DRSV_HIDRO5_LIN_PV\\DRSV_HIDRO5_LIN_PV_filter_tiptv_1_5_stanje_4_vertices.shp\n",
      "\n",
      "Check DEM propertis:\n",
      "BoundingBox(left=374000.0, bottom=31000.0, right=624010.0, top=195000.0)\n",
      "(10.0, 10.0)\n",
      "\n",
      "Outputs will be stored to:\n",
      "C:\\Users\\ncoz\\hand_index\\slo_03\n"
     ]
    }
   ],
   "source": [
    "# Create path objects\n",
    "dem = MyPath(out_dir, \"dem_\" + out_nam)\n",
    "streams = MyPath(out_dir, \"streams_\" + out_nam)\n",
    "nodes = MyPath(out_dir, \"nodes_\" + out_nam)\n",
    "\n",
    "# TauDEM MPI settings to enable parallel computations\n",
    "mpi_settings = [\"mpiexec\", \"-n\", \"22\"]\n",
    "\n",
    "# Get extent and epsg code of dem\n",
    "with rasterio.open(dem_original) as ds:\n",
    "    dem_bb = ds.bounds\n",
    "    dem_res = ds.res\n",
    "    dem_meta = ds.profile\n",
    "\n",
    "# Assign CRS from pyproj\n",
    "slo_crs = CRS.from_epsg(3794)\n",
    "\n",
    "print(\"Check paths:\")\n",
    "if os.path.exists(dem_original):\n",
    "    print(f\"DEM    : {dem_original}\")\n",
    "if os.path.exists(streams_in):\n",
    "    print(f\"Nodes  : {streams_in}\")\n",
    "if os.path.exists(nodes_in):\n",
    "    print(f\"Streams: {nodes_in}\")\n",
    "print(\"\\nCheck DEM propertis:\")\n",
    "print(dem_bb)\n",
    "print(dem_res)\n",
    "print(\"\\nOutputs will be stored to:\")\n",
    "print(out_dir)"
   ]
  },
  {
   "cell_type": "markdown",
   "metadata": {},
   "source": [
    "## 1. Rasterize shape files\n",
    "\n",
    "- streams file (line features)\n",
    "- nodes file (point features)"
   ]
  },
  {
   "cell_type": "code",
   "execution_count": 59,
   "metadata": {},
   "outputs": [
    {
     "data": {
      "text/plain": [
       "0"
      ]
     },
     "execution_count": 59,
     "metadata": {},
     "output_type": "execute_result"
    }
   ],
   "source": [
    "# Rasterize streams to match DEM\n",
    "subprocess.call(\n",
    "    \" \".join([\n",
    "        \"gdal_rasterize\",\n",
    "        \"-burn\", \"1\",\n",
    "        \"-co\", \"COMPRESS=LZW\",\n",
    "        \"-init\", \"0\",\n",
    "        \"-tap\",\n",
    "        \"-ot\", \"Byte\",\n",
    "        \"-te\", \" \".join([str(i) for i in list(dem_bb)]),\n",
    "        \"-tr\", str(dem_res[0]) + \" \" + str(dem_res[1]),\n",
    "        streams_in,\n",
    "        streams.tif()\n",
    "    ])\n",
    ")"
   ]
  },
  {
   "cell_type": "code",
   "execution_count": 60,
   "metadata": {},
   "outputs": [
    {
     "data": {
      "text/plain": [
       "0"
      ]
     },
     "execution_count": 60,
     "metadata": {},
     "output_type": "execute_result"
    }
   ],
   "source": [
    "# Rasterize vertices to match DEM\n",
    "subprocess.call(\n",
    "    \" \".join([\n",
    "        \"gdal_rasterize\",\n",
    "        \"-burn\", \"1\",\n",
    "        \"-co\", \"COMPRESS=LZW\",\n",
    "        \"-init\", \"0\",\n",
    "        \"-tap\",\n",
    "        \"-ot\", \"Byte\",\n",
    "        \"-te\", \" \".join([str(i) for i in list(dem_bb)]),\n",
    "        \"-tr\", str(dem_res[0]) + \" \" + str(dem_res[1]),\n",
    "        nodes_in,\n",
    "        nodes.tif()\n",
    "    ])\n",
    ")"
   ]
  },
  {
   "cell_type": "markdown",
   "metadata": {},
   "source": [
    "## 2. DEM conditioning\n",
    "\n",
    "A hydrologically conditioned DEM has no pits so that a drainage path can be defined from each grid cell to the edge of the domain. Each grid cell is conditioned to drain to one of the adjacent cells.\n",
    "\n",
    "\n",
    "Create conditioned DEM:\n",
    "- Fixing topology (breach obstacles, pit removal)\n",
    "- Determining flow direction\n",
    "- Mask flow directions by stream\n",
    "- Soft burn the corrected topolgy to DEM\n",
    "- Remove pits"
   ]
  },
  {
   "cell_type": "markdown",
   "metadata": {},
   "source": [
    "### Burn streams into DEM\n",
    "\n",
    "Basically we force breach any potential obstacels in the path of streams. Grid manipulation using rasterio `zb = z-100 * stream`. Can use any big number instead of 100.\n",
    "\n",
    "IN:\n",
    "- original DEM\n",
    "- rasterized streams `streams.tif`\n",
    "\n",
    "OUT:\n",
    "- DEM with burned-in streams `dem_burn.tif`"
   ]
  },
  {
   "cell_type": "code",
   "execution_count": 61,
   "metadata": {},
   "outputs": [
    {
     "name": "stdout",
     "output_type": "stream",
     "text": [
      "(1, 16400, 25001)\n",
      "(1, 16400, 25001)\n",
      "DONE!\n"
     ]
    }
   ],
   "source": [
    "# Burn streams into dem\n",
    "\n",
    "# Create output raster\n",
    "output_file = dem.tif(\"_burn\")\n",
    "\n",
    "# Open rasters\n",
    "src_a = rasterio.open(dem_original)\n",
    "src_b = rasterio.open(streams.tif())\n",
    "\n",
    "grid_a = src_a.read()\n",
    "grid_b = src_b.read()\n",
    "\n",
    "print(grid_a.shape)\n",
    "print(grid_b.shape)\n",
    "\n",
    "# Raster calculator\n",
    "grid_out = (grid_a - (grid_b * 100))\n",
    "\n",
    "# Prepare metadata & save\n",
    "out_meta = src_a.profile.copy()\n",
    "out_meta.update({\"crs\":slo_crs})\n",
    "with rasterio.open(output_file, \"w\", **out_meta) as dest:\n",
    "    dest.write(grid_out)\n",
    "\n",
    "src_a.close()\n",
    "src_b.close()\n",
    "\n",
    "print(\"DONE!\")"
   ]
  },
  {
   "cell_type": "markdown",
   "metadata": {},
   "source": [
    "### Fill pits\n",
    "\n",
    "`TauDEM:\n",
    "Output Pit Removed Elevation Grid. A grid of elevation values with pits removed so that flow is routed off of the domain. Pits are low elevation areas in digital elevation models (DEMs) that are completely surrounded by higher terrain. They are generally taken to be artifacts of the digitation process that interfere with the processing of flow across DEMs. So, they are removed by raising their elevation to the point where they just drain.`\n",
    "\n",
    "Filling pits prevents localized depressions and fill in the burned-in streams from previous step. If \"burn\" step was skipped, fill pits on the source DEM.\n",
    "\n",
    "IN:\n",
    "- DEM with burned in rasterized strems: `dem_burn.tif`\n",
    "\n",
    "OUT:\n",
    "- Pit-filled DEM with burned in streams: `dem_burn_fel.tif`"
   ]
  },
  {
   "cell_type": "code",
   "execution_count": 62,
   "metadata": {},
   "outputs": [
    {
     "name": "stdout",
     "output_type": "stream",
     "text": [
      "['mpiexec', '-n', '22', 'pitremove', '-z', 'C:\\\\Users\\\\ncoz\\\\hand_index\\\\slo_02\\\\dem_slo_02_burn.tif', '-fel', 'C:\\\\Users\\\\ncoz\\\\hand_index\\\\slo_02\\\\dem_slo_02_burn_fel.tif']\n"
     ]
    }
   ],
   "source": [
    "# Fill pits\n",
    "print(\n",
    "    mpi_settings + [\n",
    "    \"pitremove\", \n",
    "    \"-z\", dem.tif(\"_burn\"),\n",
    "    \"-fel\", dem.tif(\"_burn_fel\")\n",
    "    ]\n",
    ")\n",
    "subprocess.call(\n",
    "    mpi_settings + [\n",
    "        \"pitremove\", \n",
    "        \"-z\", dem.tif(\"_burn\"),\n",
    "        \"-fel\", dem.tif(\"_burn_fel\")\n",
    "    ]\n",
    ")\n",
    "with rasterio.open(dem.tif(\"_burn_fel\"), \"r+\") as rio:\n",
    "    rio.crs = slo_crs"
   ]
  },
  {
   "cell_type": "markdown",
   "metadata": {},
   "source": [
    "### Determine flow directions\n",
    "\n",
    "`TauDEM: Takes as input the hydrologically correct elevation grid and outputs D8 flow direction and slope for each grid cell. In flat areas flow directions are assigned away from higher ground and towards lower ground.`\n",
    "\n",
    "Gives two rasters. In the first one, each pixel has value 1-8, representing the direction of the flow in that pixel. The other raster provides slope angles for each pixel.\n",
    "\n",
    "IN:\n",
    "- Pit-filled DEM with burned in streams: `dem_burn_fel.tif`\n",
    "\n",
    "OUT:\n",
    "- Flow directions: `dem_burn_fel_p.tif`\n",
    "- Slope: `dem_burn_fel_sd8.tif` (UNUSED)"
   ]
  },
  {
   "cell_type": "code",
   "execution_count": 63,
   "metadata": {},
   "outputs": [],
   "source": [
    "# Determine flow dirs\n",
    "subprocess.call(\n",
    "    mpi_settings + [\n",
    "        \"d8flowdir\",\n",
    "        \"-fel\", dem.tif(\"_burn_fel\"),\n",
    "        \"-p\", dem.tif(\"_burn_fel_p\"),\n",
    "        \"-sd8\", dem.tif(\"_burn_fel_sd8\")\n",
    "    ]\n",
    ")\n",
    "with rasterio.open(dem.tif(\"_burn_fel_p\"), \"r+\") as rio:\n",
    "    rio.crs = slo_crs\n",
    "with rasterio.open(dem.tif(\"_burn_fel_sd8\"), \"r+\") as rio:\n",
    "    rio.crs = slo_crs"
   ]
  },
  {
   "cell_type": "markdown",
   "metadata": {},
   "source": [
    "### Mask streams\n",
    "\n",
    "Apply streams mask - we only need directions in the stream network itself. Use raserio for grid calculation.\n",
    "\n",
    "IN:\n",
    "- Flow directions `dem_burn_fel_p.tif`\n",
    "- Rasterized stream network `streams.tif`\n",
    "\n",
    "OUT:\n",
    "- Stream network with flow directions `dem_burn_fel_p_masked.tif`"
   ]
  },
  {
   "cell_type": "code",
   "execution_count": 64,
   "metadata": {
    "scrolled": true
   },
   "outputs": [
    {
     "name": "stdout",
     "output_type": "stream",
     "text": [
      "(1, 16400, 25001)\n",
      "(1, 16400, 25001)\n",
      "DONE!\n"
     ]
    }
   ],
   "source": [
    "# Mask flow dirs by streams\n",
    "\n",
    "# Create output raster\n",
    "output_file = dem.tif(\"_burn_fel_p_masked\")\n",
    "\n",
    "# Open rasters\n",
    "src_a = rasterio.open(dem.tif(\"_burn_fel_p\"))\n",
    "src_b = rasterio.open(streams.tif())\n",
    "\n",
    "grid_a = src_a.read()\n",
    "grid_b = src_b.read()\n",
    "\n",
    "print(grid_a.shape)\n",
    "print(grid_b.shape)\n",
    "\n",
    "# Raster calculator\n",
    "grid_out = (grid_a * grid_b)\n",
    "\n",
    "# Prepare output metadata & save\n",
    "out_meta = src_a.profile.copy()\n",
    "out_meta.update({\"crs\":slo_crs, \"dtype\":'int16'})\n",
    "with rasterio.open(output_file, \"w\", **out_meta) as dest:\n",
    "    dest.write(grid_out)\n",
    "\n",
    "src_a.close()\n",
    "src_b.close()\n",
    "\n",
    "print(\"DONE!\")"
   ]
  },
  {
   "cell_type": "markdown",
   "metadata": {},
   "source": [
    "### DEM conditioning\n",
    "\n",
    "Apply flow directions to the original DEM.\n",
    "\n",
    "`TauDEM: Operates on -pm and -z and produces -zsb (soft burned elevations) by tracking down the D8 flow directions and ensuring there is no uphill elevation.`\n",
    "\n",
    "IN:\n",
    "- original_dem\n",
    "- Stream network with flow directions `dem_burn_fel_p_masked.tif`\n",
    "\n",
    "OUT:\n",
    "- Conditioned DEM `dem_burn_fel_p_masked_zfcd.tif`"
   ]
  },
  {
   "cell_type": "code",
   "execution_count": 65,
   "metadata": {},
   "outputs": [],
   "source": [
    "# Condition DEM\n",
    "subprocess.call(\n",
    "    mpi_settings + [\n",
    "        \"flowdircond\",\n",
    "        \"-z\", dem_original,\n",
    "        \"-p\", dem.tif(\"_burn_fel_p_masked\"),\n",
    "        \"-zfdc\", dem.tif(\"_burn_zfdc\")\n",
    "    ]\n",
    ")\n",
    "with rasterio.open(dem.tif(\"_burn_zfdc\"), \"r+\") as rio:\n",
    "    rio.crs = slo_crs\n",
    "    # TODO: ali ima to smisel da spremenim nodata v -9999?\n",
    "    rio.nodata = -999"
   ]
  },
  {
   "cell_type": "markdown",
   "metadata": {},
   "source": [
    "### Remove pits on conditioned DEM\n",
    "\n",
    "Finally, pit removal is performed on the conditioned DEM, obtaining the end product of this sub-routine `dem_cond.tif`.\n",
    "\n",
    "The conditioned DEM with rmoved pits will be used as input for the next processing sub-routines (3. STREAM NETWORK) and (4. HAND INDEX).\n",
    "\n",
    "`TauDEM: Output Pit Removed Elevation Grid. A grid of elevation values with pits removed so that flow is routed off of the domain. Pits are low elevation areas in digital elevation models (DEMs) that are completely surrounded by higher terrain. They are generally taken to be artifacts of the digitation process that interfere with the processing of flow across DEMs. So, they are removed by raising their elevation to the point where they just drain.`\n",
    "\n",
    "IN:\n",
    "\n",
    "- Conditioned DEM `dem_burn_fel_p_masked_zfdc.tif`\n",
    "\n",
    "OUT:\n",
    "\n",
    "- Pit-filled conditioned DEM `dem_cond.tif`\n"
   ]
  },
  {
   "cell_type": "code",
   "execution_count": 66,
   "metadata": {},
   "outputs": [],
   "source": [
    "# Remove pits on conditioned DEM\n",
    "subprocess.call(\n",
    "    mpi_settings + [\n",
    "        \"pitremove\", \n",
    "        \"-z\", dem.tif(\"_burn_zfdc\"),\n",
    "        \"-fel\", dem.tif(\"_cond\")\n",
    "    ]\n",
    ")\n",
    "with rasterio.open(dem.tif(\"_cond\"), \"r+\") as rio:\n",
    "    rio.crs = slo_crs"
   ]
  },
  {
   "cell_type": "markdown",
   "metadata": {},
   "source": [
    "## 3. Stream network raster\n",
    "\n",
    "Using the conditioned elevation model with removed pits, we proceed with the (3.1) calculation of flow directions and (3.2) delineation of the stream network using the start/end points as weights.\n",
    "This stream network is similar to the one obtained from the vector layer, and is now consistent with flow directions obtained from the DEM."
   ]
  },
  {
   "cell_type": "markdown",
   "metadata": {},
   "source": [
    "### Determine flow directions on conditioned DEM\n",
    "\n",
    "`TauDEM: Takes as input the hydrologically correct elevation grid and outputs D8 flow direction and slope for each grid cell. In flat areas flow directions are assigned away from higher ground and towards lower ground.`\n",
    "\n",
    "IN:\n",
    "- Conditioned DEM `dem_cond.tif`\n",
    "\n",
    "OUT:\n",
    "- Flow directions: `dem_cond_p.tif`\n",
    "- Slope: `dem_cond_sd8.tif` (UNUSED)\n"
   ]
  },
  {
   "cell_type": "code",
   "execution_count": 67,
   "metadata": {},
   "outputs": [],
   "source": [
    "# Determine flow dirs on conditioned dem\n",
    "subprocess.call(\n",
    "    mpi_settings + [\n",
    "        \"d8flowdir\",\n",
    "        \"-fel\", dem.tif(\"_cond\"),\n",
    "        \"-p\", dem.tif(\"_cond_p\"),\n",
    "        \"-sd8\", dem.tif(\"_cond_sd8\")\n",
    "    ]\n",
    ")\n",
    "with rasterio.open(dem.tif(\"_cond_p\"), \"r+\") as rio:\n",
    "    rio.crs = slo_crs\n",
    "with rasterio.open(dem.tif(\"_cond_sd8\"), \"r+\") as rio:\n",
    "    rio.crs = slo_crs"
   ]
  },
  {
   "cell_type": "markdown",
   "metadata": {},
   "source": [
    "### Flow accumulation\n",
    "\n",
    "`TauDEM: Takes as input a D8 flow directions grid and outputs the contributing area as the number of grid cells draining through each grid cell (Optionally accumulates an input weight grid).`\n",
    "\n",
    "The value of the pixel tells you how many pixels there are upstream/upslope of the selected pixel.\n",
    "\n",
    "IN:\n",
    "- Flow directions `dem_cond_p.tif`\n",
    "\n",
    "OUT:\n",
    "- Contributing area `dem_cond_p_ad8.tif`"
   ]
  },
  {
   "cell_type": "code",
   "execution_count": 68,
   "metadata": {},
   "outputs": [],
   "source": [
    "# Flow accumulation on conditioned dem (LOOKS LIKE IT WAS UNUSED!)\n",
    "if not use_nodes:\n",
    "    subprocess.call(\n",
    "        mpi_settings + [\n",
    "            \"aread8\", \n",
    "            \"-p\", dem.tif(\"_cond_p\"),\n",
    "            \"-ad8\", dem.tif(\"_cond_p_ad8\"),\n",
    "            \"-nc\"\n",
    "        ]\n",
    "    )\n",
    "    with rasterio.open(dem.tif(\"_cond_p_ad8\"), \"r+\") as rio:\n",
    "        rio.crs = slo_crs"
   ]
  },
  {
   "cell_type": "markdown",
   "metadata": {},
   "source": [
    "### Flow accumulation weighted by stream nodes\n",
    "\n",
    "`TauDEM: Takes as input a D8 flow directions grid and outputs the contributing area as the number of grid cells draining through each grid cell (Optionally accumulates an input weight grid).`\n",
    "\n",
    "Here, the aread8 is used to accumulate an input weight grid.\n",
    "\n",
    "(It is the only place I am using strem nodes extracted from stream vector file.)\n",
    "\n",
    "IN:\n",
    "- Flow directions `dem_cond_p.tif`\n",
    "- Rasteized nodes `nodes.tif`\n",
    "\n",
    "OUT:\n",
    "- Flow accumulation weighted by stream nodes `dem_cond_p_ssa.tif`"
   ]
  },
  {
   "cell_type": "code",
   "execution_count": 7,
   "metadata": {},
   "outputs": [],
   "source": [
    "# Flow accumulation weighted by stream start and end points\n",
    "if use_nodes:\n",
    "    subprocess.call(\n",
    "        mpi_settings + [\n",
    "            \"aread8\", \n",
    "            \"-p\", dem.tif(\"_cond_p\"),\n",
    "            \"-ad8\", dem.tif(\"_cond_p_ssa\"),\n",
    "            \"-wg\", nodes.tif(),\n",
    "            \"-nc\"\n",
    "        ]\n",
    "    )\n",
    "    with rasterio.open(dem.tif(\"_cond_p_ssa\"), \"r+\") as rio:\n",
    "        rio.crs = slo_crs"
   ]
  },
  {
   "cell_type": "markdown",
   "metadata": {},
   "source": [
    "### Delineate streams by threshold\n",
    "\n",
    "`TauDEM: Takes as input any grid and outputs an indicator (1,0) grid of grid cells that have values >= the input threshold. This is used to delineate stream networks from contributing area and similar grids.`\n",
    "\n",
    "In literature threshold 50 is suggested, however this is much to low. In literature 3\" SRTM data is used, which gives pixel size 90m at equator. We are using downsampled ALS DEM with pixel size 10m. Therfore 50 is much to low and gives a very dense stream network, with too many non-existent small tributarys, which lower the overall value of HAND index. This is especially pronunced in Kras (casrst) region, where poprous land results in almost no streams on the surface.\n",
    "\n",
    "The Danish guy used threshold 1, but stream network was weighted with stream nodes extracted from shp file.\n",
    "\n",
    "IN:\n",
    "- Flow accumulation weighted by stream nodes `dem_cond_p_ssa.tif`\n",
    "\n",
    "OUT:\n",
    "- Stream network for HAND calculation `dem_src.tif`"
   ]
  },
  {
   "cell_type": "code",
   "execution_count": 8,
   "metadata": {},
   "outputs": [],
   "source": [
    "# Delineate streams by threshold (OPTIONB)\n",
    "if use_nodes:\n",
    "    ad8_file = dem.tif(\"_cond_p_ssa\")\n",
    "    thr = \"1\"\n",
    "else:\n",
    "    ad8_file = dem.tif(\"_cond_p_ad8\")\n",
    "    thr = \"500\"\n",
    "subprocess.call(\n",
    "    mpi_settings + [\n",
    "        \"threshold\", \n",
    "        \"-ssa\", ad8_file,\n",
    "        \"-src\", dem.tif(\"_src\"),\n",
    "        \"-thresh\", thr\n",
    "    ]\n",
    ")\n",
    "with rasterio.open(dem.tif(\"_src\"), \"r+\") as rio:\n",
    "    rio.crs = slo_crs"
   ]
  },
  {
   "cell_type": "markdown",
   "metadata": {},
   "source": [
    "## 4. Calculate HAND\n",
    "\n",
    "Finally, we calculate D-Inf flow directions and HAND. The result is a grid where each cell denotes the vertical height above the nearest stream, with “nearest” being the nearest stream cell in along the D-Inf flowpath. In the final step, we use some raster math to assign zero to the coastal area for which HAND has not been calculated."
   ]
  },
  {
   "cell_type": "markdown",
   "metadata": {},
   "source": [
    "### Infinity flow directions\n",
    "\n",
    "`TauDEM: Assigns a flow direction based on steepest slope on a triangular facet following the D∞ model. This is recorded as an angle in radians anticlockwise from east.`\n",
    "\n",
    "IN:\n",
    "- Conditioned DEM `dem_cond.tif`\n",
    "\n",
    "OUT:\n",
    "- Slope grid `dem_cond_slp.tif`\n",
    "- Flow direction grid `dem_cond_ang.tif`"
   ]
  },
  {
   "cell_type": "code",
   "execution_count": 9,
   "metadata": {},
   "outputs": [],
   "source": [
    "# Calculate infinity flow directions\n",
    "subprocess.call(\n",
    "    mpi_settings + [\n",
    "        \"dinfflowdir\",\n",
    "        \"-fel\", dem.tif(\"_cond\"),\n",
    "        \"-slp\", dem.tif(\"_cond_slp\"),\n",
    "        \"-ang\", dem.tif(\"_cond_ang\")\n",
    "    ]\n",
    ")\n",
    "with rasterio.open(dem.tif(\"_cond_slp\"), \"r+\") as rio:\n",
    "    rio.crs = slo_crs\n",
    "with rasterio.open(dem.tif(\"_cond_ang\"), \"r+\") as rio:\n",
    "    rio.crs = slo_crs"
   ]
  },
  {
   "cell_type": "markdown",
   "metadata": {},
   "source": [
    "### Calculate HAND raster\n",
    "\n",
    "`TauDEM: Calculates distance downslope to a target zone (typically stream)\n",
    "using Dinf flow directions. Options include vertical, horizontal, along\n",
    "slope and pythagorus distances, computed using minimum,\n",
    "maximum, or flow weighted averaging along multiple Dinf flow paths.`\n",
    "\n",
    "IN:\n",
    "- Conditioned DEM `dem_cond.tif`\n",
    "- Slope grid `dem_cond_slp.tif`\n",
    "- Flow direction grid `dem_cond_ang.tif`\n",
    "- Stream network for HAND calculation `dem_src.tif`\n",
    "\n",
    "OUT:\n",
    "- HAND index `dem_HAND.tif`"
   ]
  },
  {
   "cell_type": "code",
   "execution_count": 10,
   "metadata": {},
   "outputs": [],
   "source": [
    "# Calculate HAND raster\n",
    "subprocess.call(\n",
    "    mpi_settings + [\n",
    "        \"dinfdistdown\",\n",
    "        \"-fel\", dem.tif(\"_cond\"),\n",
    "        \"-slp\", dem.tif(\"_cond_slp\"),\n",
    "        \"-ang\", dem.tif(\"_cond_ang\"),\n",
    "        \"-src\", dem.tif(\"_src\"),\n",
    "        \"-dd\", dem.tif(\"_HAND\"),\n",
    "        \"-m\",  \"v\",  \"ave\"\n",
    "    ]\n",
    ")\n",
    "with rasterio.open(dem.tif(\"_HAND\"), \"r+\") as rio:\n",
    "    rio.crs = slo_crs"
   ]
  },
  {
   "cell_type": "markdown",
   "metadata": {},
   "source": [
    "### Some post-processig to make it look nicer\n",
    "\n",
    "Assign zero to areas for which HAND could not be calculated (e.g. coastal areas) and assign nodata values based on the original DEM.\n",
    "\n",
    "IN:\n",
    "- HAND index: `dem_HAND.tif`\n",
    "- original DEM\n",
    "\n",
    "OUT:\n",
    "- HAND index (final version) `dem_HAND_final.tif`"
   ]
  },
  {
   "cell_type": "code",
   "execution_count": 11,
   "metadata": {},
   "outputs": [
    {
     "name": "stdout",
     "output_type": "stream",
     "text": [
      "DONE!\n"
     ]
    }
   ],
   "source": [
    "# Fill HAND raster with zero on land surfaces where HAND is nodata\n",
    "with rasterio.open(dem.tif(\"_HAND\")) as grid:\n",
    "    handgrid = grid.read()\n",
    "    handmeta = grid.profile\n",
    "\n",
    "handgrid[handgrid < 0] = 0\n",
    "\n",
    "# This one is used to set all nodata from original dem to -1\n",
    "with rasterio.open(dem_original) as grid:\n",
    "    demgrid = grid.read()\n",
    "\n",
    "# For SLovenian DEM, nodata in original raster is 0\n",
    "handgrid[demgrid == -999] = -1\n",
    "\n",
    "# Update metadata\n",
    "handmeta[\"nodata\"] = -1\n",
    "handmeta.update({\"crs\":slo_crs})\n",
    "\n",
    "# Save\n",
    "with rasterio.open(dem.tif(\"_HAND_final\"), \"w\", **handmeta) as dst:\n",
    "    dst.write(handgrid)\n",
    "\n",
    "print(\"DONE!\")"
   ]
  },
  {
   "cell_type": "markdown",
   "metadata": {},
   "source": [
    "At the end, there was some interpolation done for the rest of the missing data. Some polygons were also located over the border, so the raster was interpolated 600 pixels out of the border. The NODATA of the final product is set to very big negative nnumber. Change it to np.nan!"
   ]
  },
  {
   "cell_type": "code",
   "execution_count": 1,
   "metadata": {},
   "outputs": [],
   "source": [
    "import numpy as np\n",
    "import rasterio\n",
    "\n",
    "fill_rst = \"c:\\\\Users\\\\ncoz\\\\ARRS_susa\\\\fill_tif_fill\\\\dem_slo_03_HAND_fill.tif\"\n",
    "fill_out = \"c:\\\\Users\\\\ncoz\\\\ARRS_susa\\\\fill_tif_fill\\\\dem_slo_03_HAND_fill_nan.tif\"\n",
    "\n",
    "with rasterio.open(fill_rst) as grid:\n",
    "    handgrid = grid.read()\n",
    "    handmeta = grid.profile\n",
    "\n"
   ]
  },
  {
   "cell_type": "code",
   "execution_count": 2,
   "metadata": {},
   "outputs": [
    {
     "data": {
      "text/plain": [
       "{'driver': 'GTiff', 'dtype': 'float32', 'nodata': -3.4028234663852886e+38, 'width': 25001, 'height': 16400, 'count': 1, 'crs': CRS.from_epsg(3794), 'transform': Affine(10.0, 0.0, 374000.0,\n",
       "       0.0, -10.0, 195000.0), 'tiled': False, 'interleave': 'band'}"
      ]
     },
     "execution_count": 2,
     "metadata": {},
     "output_type": "execute_result"
    }
   ],
   "source": [
    "handmeta"
   ]
  },
  {
   "cell_type": "code",
   "execution_count": 3,
   "metadata": {},
   "outputs": [],
   "source": [
    "handgrid[handgrid < 0] = np.nan\n",
    "handmeta.update({\"nodata\":np.nan})\n",
    "\n",
    "# Save\n",
    "with rasterio.open(fill_out, \"w\", **handmeta) as dst:\n",
    "    dst.write(handgrid)"
   ]
  }
 ],
 "metadata": {
  "kernelspec": {
   "display_name": "Python 3",
   "language": "python",
   "name": "python3"
  },
  "language_info": {
   "codemirror_mode": {
    "name": "ipython",
    "version": 3
   },
   "file_extension": ".py",
   "mimetype": "text/x-python",
   "name": "python",
   "nbconvert_exporter": "python",
   "pygments_lexer": "ipython3",
   "version": "3.8.5"
  },
  "toc": {
   "base_numbering": 1,
   "nav_menu": {},
   "number_sections": true,
   "sideBar": true,
   "skip_h1_title": true,
   "title_cell": "Table of Contents",
   "title_sidebar": "Contents",
   "toc_cell": false,
   "toc_position": {},
   "toc_section_display": true,
   "toc_window_display": false
  }
 },
 "nbformat": 4,
 "nbformat_minor": 4
}
