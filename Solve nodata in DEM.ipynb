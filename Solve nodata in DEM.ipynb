{
 "cells": [
  {
   "cell_type": "markdown",
   "metadata": {},
   "source": [
    "There are two types of nodata in Slovenian DEM.\n",
    "- majority of it is set to 0 and this value is also set in metadata as no data value\n",
    "- for the purpose of calculating HAND, I have changed these values to -999\n",
    "- the second type of no data is set as nan (limited areas in the south-west, just over the border)"
   ]
  },
  {
   "cell_type": "code",
   "execution_count": 6,
   "metadata": {},
   "outputs": [
    {
     "name": "stdout",
     "output_type": "stream",
     "text": [
      "DONE!\n",
      "Wall time: 16.7 s\n"
     ]
    }
   ],
   "source": [
    "%%time\n",
    "\n",
    "import numpy as np\n",
    "import rasterio\n",
    "from pyproj.crs import CRS\n",
    "\n",
    "# Paths\n",
    "source_dem = \"d:\\\\nejc\\\\hand_index\\\\dmv_10m.tif\"\n",
    "result_dem = \"d:\\\\nejc\\\\hand_index\\\\dmv_10m_result.tif\"\n",
    "\n",
    "with rasterio.open(source_dem) as ds:\n",
    "    array = ds.read()\n",
    "    profile = ds.profile\n",
    "    \n",
    "    # Find missing value\n",
    "    d_x, d_y = (38203, -141588)\n",
    "    x, y = (ds.bounds.left + d_x, ds.bounds.top + d_y)\n",
    "    row, col = ds.index(x, y)\n",
    "    nan_val = array[0, row, col]\n",
    "\n",
    "# Change nan values to -999\n",
    "array[array == nan_val] = -999\n",
    "\n",
    "# Update metadata\n",
    "# handmeta[\"nodata\"] = -1\n",
    "\n",
    "slo_crs = CRS.from_epsg(3794)\n",
    "profile.update({\"crs\":slo_crs})\n",
    "\n",
    "# Save\n",
    "with rasterio.open(result_dem, \"w\", **profile) as dst:\n",
    "    dst.write(array)\n",
    "\n",
    "print(\"DONE!\")"
   ]
  },
  {
   "cell_type": "code",
   "execution_count": 7,
   "metadata": {},
   "outputs": [
    {
     "name": "stdout",
     "output_type": "stream",
     "text": [
      "nan\n"
     ]
    }
   ],
   "source": [
    "with rasterio.open(source_dem) as ds:\n",
    "    d_x, d_y = (38203, -141588)\n",
    "\n",
    "    x, y = (ds.bounds.left + d_x, ds.bounds.top + d_y)\n",
    "    \n",
    "    row, col = ds.index(x, y)\n",
    "\n",
    "nan_val = array[0, row, col]\n",
    "\n",
    "print(nan_val)"
   ]
  }
 ],
 "metadata": {
  "kernelspec": {
   "display_name": "Python 3",
   "language": "python",
   "name": "python3"
  },
  "language_info": {
   "codemirror_mode": {
    "name": "ipython",
    "version": 3
   },
   "file_extension": ".py",
   "mimetype": "text/x-python",
   "name": "python",
   "nbconvert_exporter": "python",
   "pygments_lexer": "ipython3",
   "version": "3.8.5"
  }
 },
 "nbformat": 4,
 "nbformat_minor": 4
}
