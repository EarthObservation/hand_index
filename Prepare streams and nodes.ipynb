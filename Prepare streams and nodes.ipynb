{
 "cells": [
  {
   "cell_type": "code",
   "execution_count": 1,
   "metadata": {},
   "outputs": [
    {
     "name": "stdout",
     "output_type": "stream",
     "text": [
      "C:\\Users\\ncoz\\ARRS_susa\\raw_sample\\sample_DEM_454_84.tif\n",
      "C:\\Users\\ncoz\\ARRS_susa\\DRSV_HIDRO5_LIN_PV\\DRSV_HIDRO5_LIN_PV.shp\n",
      "BoundingBox(left=453999.0, bottom=84000.0, right=470999.0, top=101000.0)\n",
      "(10.0, 10.0)\n"
     ]
    }
   ],
   "source": [
    "import subprocess\n",
    "import os\n",
    "import rasterio\n",
    "\n",
    "#path to gdal command line programs\n",
    "path_gdal = \"C:\\\\Program Files\\\\GDAL\"\n",
    "\n",
    "#taudem mpi settings to enable parallel computations\n",
    "mpi_settings = [\"mpiexec\", \"-n\", \"6\"]\n",
    "\n",
    "#set work dir path\n",
    "work_dir = \"C:\\\\Users\\\\ncoz\\\\ARRS_susa\"\n",
    "\n",
    "# #rawdata dir path\n",
    "# rawdata_dir = work_dir+\"rawdata/\"\n",
    "\n",
    "dem = os.path.join(work_dir, \"raw_sample\\\\sample_DEM_454_84.tif\")\n",
    "stream_raw = os.path.join(work_dir, \"DRSV_HIDRO5_LIN_PV\\\\DRSV_HIDRO5_LIN_PV.shp\")\n",
    "\n",
    "#get extent and epsg code of dem\n",
    "with rasterio.open(dem.format(\"\")) as ds:\n",
    "    dem_bb = ds.bounds\n",
    "    dem_res = ds.res\n",
    "    dem_meta = ds.profile\n",
    "\n",
    "print(dem)\n",
    "print(stream_raw)\n",
    "print(dem_bb)\n",
    "print(dem_res)\n",
    "# print(dem_meta)"
   ]
  },
  {
   "cell_type": "code",
   "execution_count": 2,
   "metadata": {},
   "outputs": [],
   "source": [
    "# Prepare stream vector file\n",
    "import geopandas as gpd\n",
    "\n",
    "gdf = gpd.GeoDataFrame.from_file(stream_raw)"
   ]
  },
  {
   "cell_type": "code",
   "execution_count": 40,
   "metadata": {},
   "outputs": [
    {
     "name": "stdout",
     "output_type": "stream",
     "text": [
      "Index(['OBJECTID_1', 'ID_REG_HLI', 'HLINPV_ID', 'HLINPV_IM', 'VERZIJA',\n",
      "       'DATP_ZAC', 'DATP_KON', 'RAZVOJ', 'JEZIK', 'DAT_ZAC', 'DAT_KON',\n",
      "       'VODE_ID', 'HMZ_ID', 'IME_ID', 'IME', 'VRSTA_ID', 'VRSTA_IME', 'OS_ID',\n",
      "       'OS_IME', 'VTOK_ID', 'VTOK_IME', 'IZVOR_ID', 'IZVOR_IM', 'STALN_ID',\n",
      "       'STALN_IME', 'STANJE_ID', 'STANJE_IM', 'POTEK_ID', 'POTEK_IM',\n",
      "       'TIPTV_ID', 'TIPTV_IM', 'TIPPREH_ID', 'TIPPREH_IM', 'SIRINA_ID',\n",
      "       'SIRINA_IM', 'VIRP_ID', 'VIRP_IM', 'DVIRP', 'PAS_VZ', 'PREOB_ID',\n",
      "       'PREOBLIK', 'geometry'],\n",
      "      dtype='object')\n"
     ]
    }
   ],
   "source": [
    "print(gdf.keys())\n",
    "# for col in gdf: \n",
    "#     print(col)\n",
    "#     print(gdf[col].unique())\n",
    "#     print(\"\\n\")"
   ]
  },
  {
   "cell_type": "code",
   "execution_count": 42,
   "metadata": {},
   "outputs": [
    {
     "name": "stdout",
     "output_type": "stream",
     "text": [
      "STALN_ID\n",
      "['2' '9999' '3' '4']\n",
      "STALN_IME\n",
      "['funkcionalen' 'ni podatka' 'občasen' 'stalen']\n"
     ]
    }
   ],
   "source": [
    "col = \"STALN_ID\"\n",
    "print(col)\n",
    "print(gdf[col].unique())\n",
    "col = \"STALN_IME\"\n",
    "print(col)\n",
    "print(gdf[col].unique())"
   ]
  },
  {
   "cell_type": "code",
   "execution_count": 43,
   "metadata": {},
   "outputs": [
    {
     "name": "stdout",
     "output_type": "stream",
     "text": [
      "POTEK_ID\n",
      "['1' '2']\n",
      "POTEK_IM\n",
      "['da - potek je znan' 'ne - potek ni znan']\n"
     ]
    }
   ],
   "source": [
    "col = \"POTEK_ID\"\n",
    "print(col)\n",
    "print(gdf[col].unique())\n",
    "col = \"POTEK_IM\"\n",
    "print(col)\n",
    "print(gdf[col].unique())"
   ]
  },
  {
   "cell_type": "code",
   "execution_count": 45,
   "metadata": {},
   "outputs": [
    {
     "name": "stdout",
     "output_type": "stream",
     "text": [
      "TIPTV_ID\n",
      "['4' '1' '6' '5' '7' '8']\n",
      "TIPTV_IM\n",
      "['obcestni jarek' 'vodotok' 'razbremenilni jarek' 'melioracijski jarek'\n",
      " 'objekt (kanal) za posebno rabo vode' 'padavinski jarek']\n"
     ]
    }
   ],
   "source": [
    "col = \"TIPTV_ID\"\n",
    "print(col)\n",
    "print(gdf[col].unique())\n",
    "col = \"TIPTV_IM\"\n",
    "print(col)\n",
    "print(gdf[col].unique())"
   ]
  },
  {
   "cell_type": "code",
   "execution_count": 56,
   "metadata": {},
   "outputs": [
    {
     "data": {
      "text/plain": [
       "(18662, 42)"
      ]
     },
     "execution_count": 56,
     "metadata": {},
     "output_type": "execute_result"
    }
   ],
   "source": [
    "# Filter attributes and save SHP\n",
    "filtered = gdf[gdf[\"POTEK_ID\"] == \"2\"]\n",
    "filtered.shape"
   ]
  },
  {
   "cell_type": "code",
   "execution_count": 58,
   "metadata": {},
   "outputs": [],
   "source": [
    "# out_dir = os.path.join(work_dir, \"test_shp\")\n",
    "# os.makedirs(out_dir, exist_ok=True)\n",
    "gpkg = \"hidrologija.gpkg\"\n",
    "filtered.to_file(os.path.join(work_dir, gpkg), layer='potek_ni_znan', driver=\"GPKG\")"
   ]
  },
  {
   "cell_type": "code",
   "execution_count": null,
   "metadata": {},
   "outputs": [],
   "source": [
    "filtered = gdf[gdf[\"POTEK_ID\"] == \"2\"]\n",
    "filtered.shape"
   ]
  }
 ],
 "metadata": {
  "kernelspec": {
   "display_name": "Python 3",
   "language": "python",
   "name": "python3"
  },
  "language_info": {
   "codemirror_mode": {
    "name": "ipython",
    "version": 3
   },
   "file_extension": ".py",
   "mimetype": "text/x-python",
   "name": "python",
   "nbconvert_exporter": "python",
   "pygments_lexer": "ipython3",
   "version": "3.8.5"
  }
 },
 "nbformat": 4,
 "nbformat_minor": 4
}
