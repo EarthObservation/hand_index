{
 "cells": [
  {
   "cell_type": "markdown",
   "metadata": {
    "toc": true
   },
   "source": [
    "<h1>Table of Contents<span class=\"tocSkip\"></span></h1>\n",
    "<div class=\"toc\"><ul class=\"toc-item\"><li><span><a href=\"#Import-shapefile\" data-toc-modified-id=\"Import-shapefile-1\"><span class=\"toc-item-num\">1&nbsp;&nbsp;</span>Import shapefile</a></span></li><li><span><a href=\"#Extracting-array-from-the-raster\" data-toc-modified-id=\"Extracting-array-from-the-raster-2\"><span class=\"toc-item-num\">2&nbsp;&nbsp;</span>Extracting array from the raster</a></span><ul class=\"toc-item\"><li><span><a href=\"#FOR-LOOP\" data-toc-modified-id=\"FOR-LOOP-2.1\"><span class=\"toc-item-num\">2.1&nbsp;&nbsp;</span>FOR LOOP</a></span></li><li><span><a href=\"#LAMBDA\" data-toc-modified-id=\"LAMBDA-2.2\"><span class=\"toc-item-num\">2.2&nbsp;&nbsp;</span>LAMBDA</a></span></li><li><span><a href=\"#List-comprehansion\" data-toc-modified-id=\"List-comprehansion-2.3\"><span class=\"toc-item-num\">2.3&nbsp;&nbsp;</span>List comprehansion</a></span></li></ul></li><li><span><a href=\"#What-if-we-need-to-extract-from-multiple-images?\" data-toc-modified-id=\"What-if-we-need-to-extract-from-multiple-images?-3\"><span class=\"toc-item-num\">3&nbsp;&nbsp;</span>What if we need to extract from multiple images?</a></span><ul class=\"toc-item\"><li><span><a href=\"#Loop-over-all-images-with-rasterio\" data-toc-modified-id=\"Loop-over-all-images-with-rasterio-3.1\"><span class=\"toc-item-num\">3.1&nbsp;&nbsp;</span>Loop over all images with rasterio</a></span></li><li><span><a href=\"#Pre-stack-all-images-into-a-single-(multiband)-file\" data-toc-modified-id=\"Pre-stack-all-images-into-a-single-(multiband)-file-3.2\"><span class=\"toc-item-num\">3.2&nbsp;&nbsp;</span>Pre-stack all images into a single (multiband) file</a></span></li></ul></li></ul></div>"
   ]
  },
  {
   "cell_type": "code",
   "execution_count": 1,
   "metadata": {},
   "outputs": [],
   "source": [
    "# Import requiered python packages\n",
    "import geopandas as gpd\n",
    "from shapely.geometry import mapping\n",
    "\n",
    "import numpy as np\n",
    "\n",
    "import rasterio\n",
    "from rasterio.mask import mask"
   ]
  },
  {
   "cell_type": "markdown",
   "metadata": {},
   "source": [
    "## Import shapefile"
   ]
  },
  {
   "cell_type": "code",
   "execution_count": 2,
   "metadata": {},
   "outputs": [
    {
     "name": "stdout",
     "output_type": "stream",
     "text": [
      "Wall time: 49.8 s\n"
     ]
    }
   ],
   "source": [
    "%%time\n",
    "\n",
    "src = \"c:\\\\Users\\\\ncoz\\\\ARRS_susa\\\\mala_sola\\\\ZV2017_d96tm_big10.shp\"\n",
    "\n",
    "shape = gpd.read_file(src)"
   ]
  },
  {
   "cell_type": "code",
   "execution_count": 3,
   "metadata": {
    "scrolled": true
   },
   "outputs": [
    {
     "data": {
      "text/plain": [
       "(681968, 10)"
      ]
     },
     "execution_count": 3,
     "metadata": {},
     "output_type": "execute_result"
    }
   ],
   "source": [
    "shape.shape"
   ]
  },
  {
   "cell_type": "code",
   "execution_count": 4,
   "metadata": {
    "scrolled": true
   },
   "outputs": [
    {
     "data": {
      "text/html": [
       "<div>\n",
       "<style scoped>\n",
       "    .dataframe tbody tr th:only-of-type {\n",
       "        vertical-align: middle;\n",
       "    }\n",
       "\n",
       "    .dataframe tbody tr th {\n",
       "        vertical-align: top;\n",
       "    }\n",
       "\n",
       "    .dataframe thead th {\n",
       "        text-align: right;\n",
       "    }\n",
       "</style>\n",
       "<table border=\"1\" class=\"dataframe\">\n",
       "  <thead>\n",
       "    <tr style=\"text-align: right;\">\n",
       "      <th></th>\n",
       "      <th>GERK_PID</th>\n",
       "      <th>POLJINA_ID</th>\n",
       "      <th>RABA_ID</th>\n",
       "      <th>POVR_GERK_</th>\n",
       "      <th>SIFRA_KMRS</th>\n",
       "      <th>OBRAZEC</th>\n",
       "      <th>INTERSECT</th>\n",
       "      <th>POVR_ar</th>\n",
       "      <th>REGIJA</th>\n",
       "      <th>geometry</th>\n",
       "    </tr>\n",
       "  </thead>\n",
       "  <tbody>\n",
       "    <tr>\n",
       "      <th>0</th>\n",
       "      <td>2537988</td>\n",
       "      <td>2104906.0</td>\n",
       "      <td>1100</td>\n",
       "      <td>19308.9997</td>\n",
       "      <td>801</td>\n",
       "      <td>GP</td>\n",
       "      <td>0</td>\n",
       "      <td>57.930456</td>\n",
       "      <td>5</td>\n",
       "      <td>POLYGON ((547508.347 86829.736, 547545.426 868...</td>\n",
       "    </tr>\n",
       "    <tr>\n",
       "      <th>1</th>\n",
       "      <td>2537988</td>\n",
       "      <td>2104908.0</td>\n",
       "      <td>1100</td>\n",
       "      <td>19308.9997</td>\n",
       "      <td>005</td>\n",
       "      <td>GP</td>\n",
       "      <td>0</td>\n",
       "      <td>30.520097</td>\n",
       "      <td>5</td>\n",
       "      <td>POLYGON ((547497.850 86785.076, 547578.847 867...</td>\n",
       "    </tr>\n",
       "    <tr>\n",
       "      <th>2</th>\n",
       "      <td>2537988</td>\n",
       "      <td>2104910.0</td>\n",
       "      <td>1100</td>\n",
       "      <td>19308.9997</td>\n",
       "      <td>203</td>\n",
       "      <td>GP</td>\n",
       "      <td>0</td>\n",
       "      <td>26.799442</td>\n",
       "      <td>5</td>\n",
       "      <td>POLYGON ((547599.139 86850.730, 547670.666 868...</td>\n",
       "    </tr>\n",
       "    <tr>\n",
       "      <th>3</th>\n",
       "      <td>1143420</td>\n",
       "      <td>2105003.0</td>\n",
       "      <td>1100</td>\n",
       "      <td>8277.3796</td>\n",
       "      <td>801</td>\n",
       "      <td>GP</td>\n",
       "      <td>0</td>\n",
       "      <td>40.952670</td>\n",
       "      <td>5</td>\n",
       "      <td>POLYGON ((547165.958 85941.243, 547179.112 859...</td>\n",
       "    </tr>\n",
       "    <tr>\n",
       "      <th>4</th>\n",
       "      <td>3077991</td>\n",
       "      <td>2652377.0</td>\n",
       "      <td>1211</td>\n",
       "      <td>14987.7976</td>\n",
       "      <td>100</td>\n",
       "      <td>GP</td>\n",
       "      <td>0</td>\n",
       "      <td>149.877976</td>\n",
       "      <td>4</td>\n",
       "      <td>POLYGON ((419052.089 80240.803, 419056.851 802...</td>\n",
       "    </tr>\n",
       "  </tbody>\n",
       "</table>\n",
       "</div>"
      ],
      "text/plain": [
       "   GERK_PID  POLJINA_ID  RABA_ID  POVR_GERK_ SIFRA_KMRS OBRAZEC  INTERSECT  \\\n",
       "0   2537988   2104906.0     1100  19308.9997        801      GP          0   \n",
       "1   2537988   2104908.0     1100  19308.9997        005      GP          0   \n",
       "2   2537988   2104910.0     1100  19308.9997        203      GP          0   \n",
       "3   1143420   2105003.0     1100   8277.3796        801      GP          0   \n",
       "4   3077991   2652377.0     1211  14987.7976        100      GP          0   \n",
       "\n",
       "      POVR_ar  REGIJA                                           geometry  \n",
       "0   57.930456       5  POLYGON ((547508.347 86829.736, 547545.426 868...  \n",
       "1   30.520097       5  POLYGON ((547497.850 86785.076, 547578.847 867...  \n",
       "2   26.799442       5  POLYGON ((547599.139 86850.730, 547670.666 868...  \n",
       "3   40.952670       5  POLYGON ((547165.958 85941.243, 547179.112 859...  \n",
       "4  149.877976       4  POLYGON ((419052.089 80240.803, 419056.851 802...  "
      ]
     },
     "execution_count": 4,
     "metadata": {},
     "output_type": "execute_result"
    }
   ],
   "source": [
    "shape.head()"
   ]
  },
  {
   "cell_type": "markdown",
   "metadata": {},
   "source": [
    "## Extracting array from the raster"
   ]
  },
  {
   "cell_type": "markdown",
   "metadata": {},
   "source": [
    "Rasterio mask requires the input geometry to be in a specific format (GeoJSON).\n",
    "\n",
    "This step will reformat the shapely-type geometry into GeoJSON-type and append it to a new column.\n"
   ]
  },
  {
   "cell_type": "code",
   "execution_count": 3,
   "metadata": {
    "scrolled": false
   },
   "outputs": [
    {
     "name": "stdout",
     "output_type": "stream",
     "text": [
      "Wall time: 37.6 s\n"
     ]
    }
   ],
   "source": [
    "%%time\n",
    "\n",
    "shape[\"geom\"] = shape.geometry.apply(lambda g: [mapping(g)])"
   ]
  },
  {
   "cell_type": "code",
   "execution_count": 4,
   "metadata": {
    "scrolled": false
   },
   "outputs": [
    {
     "data": {
      "text/html": [
       "<div>\n",
       "<style scoped>\n",
       "    .dataframe tbody tr th:only-of-type {\n",
       "        vertical-align: middle;\n",
       "    }\n",
       "\n",
       "    .dataframe tbody tr th {\n",
       "        vertical-align: top;\n",
       "    }\n",
       "\n",
       "    .dataframe thead th {\n",
       "        text-align: right;\n",
       "    }\n",
       "</style>\n",
       "<table border=\"1\" class=\"dataframe\">\n",
       "  <thead>\n",
       "    <tr style=\"text-align: right;\">\n",
       "      <th></th>\n",
       "      <th>geometry</th>\n",
       "      <th>geom</th>\n",
       "    </tr>\n",
       "  </thead>\n",
       "  <tbody>\n",
       "    <tr>\n",
       "      <th>0</th>\n",
       "      <td>POLYGON ((547508.347 86829.736, 547545.426 868...</td>\n",
       "      <td>[{'type': 'Polygon', 'coordinates': (((547508....</td>\n",
       "    </tr>\n",
       "    <tr>\n",
       "      <th>1</th>\n",
       "      <td>POLYGON ((547497.850 86785.076, 547578.847 867...</td>\n",
       "      <td>[{'type': 'Polygon', 'coordinates': (((547497....</td>\n",
       "    </tr>\n",
       "    <tr>\n",
       "      <th>2</th>\n",
       "      <td>POLYGON ((547599.139 86850.730, 547670.666 868...</td>\n",
       "      <td>[{'type': 'Polygon', 'coordinates': (((547599....</td>\n",
       "    </tr>\n",
       "    <tr>\n",
       "      <th>3</th>\n",
       "      <td>POLYGON ((547165.958 85941.243, 547179.112 859...</td>\n",
       "      <td>[{'type': 'Polygon', 'coordinates': (((547165....</td>\n",
       "    </tr>\n",
       "    <tr>\n",
       "      <th>4</th>\n",
       "      <td>POLYGON ((419052.089 80240.803, 419056.851 802...</td>\n",
       "      <td>[{'type': 'Polygon', 'coordinates': (((419052....</td>\n",
       "    </tr>\n",
       "  </tbody>\n",
       "</table>\n",
       "</div>"
      ],
      "text/plain": [
       "                                            geometry  \\\n",
       "0  POLYGON ((547508.347 86829.736, 547545.426 868...   \n",
       "1  POLYGON ((547497.850 86785.076, 547578.847 867...   \n",
       "2  POLYGON ((547599.139 86850.730, 547670.666 868...   \n",
       "3  POLYGON ((547165.958 85941.243, 547179.112 859...   \n",
       "4  POLYGON ((419052.089 80240.803, 419056.851 802...   \n",
       "\n",
       "                                                geom  \n",
       "0  [{'type': 'Polygon', 'coordinates': (((547508....  \n",
       "1  [{'type': 'Polygon', 'coordinates': (((547497....  \n",
       "2  [{'type': 'Polygon', 'coordinates': (((547599....  \n",
       "3  [{'type': 'Polygon', 'coordinates': (((547165....  \n",
       "4  [{'type': 'Polygon', 'coordinates': (((419052....  "
      ]
     },
     "execution_count": 4,
     "metadata": {},
     "output_type": "execute_result"
    }
   ],
   "source": [
    "shape[[\"geometry\", \"geom\"]].head()"
   ]
  },
  {
   "cell_type": "markdown",
   "metadata": {},
   "source": [
    "Define the function that needs to be applied to each row of the DataFrame"
   ]
  },
  {
   "cell_type": "code",
   "execution_count": 5,
   "metadata": {},
   "outputs": [],
   "source": [
    "from rasterio.mask import mask\n",
    "\n",
    "def msk_rio(geom, raster):\n",
    "    \"\"\"Returns subset of an array covered by the input polygon. The input\n",
    "    polygon has to be in the GeoJSON format. The crop attribute sets values\n",
    "    not covered by polygon to nan. All_touched is used to prevent empty rasters\n",
    "    for very thin polygons.\"\"\"\n",
    "    \n",
    "    out_image, _ = mask(raster, geom, crop=True, all_touched=True, nodata=np.nan)\n",
    "    \n",
    "    return out_image"
   ]
  },
  {
   "cell_type": "markdown",
   "metadata": {},
   "source": [
    "### FOR LOOP"
   ]
  },
  {
   "cell_type": "markdown",
   "metadata": {},
   "source": [
    "Prepare a samller subset of polygons for testing. Add geometry in the appropriate format"
   ]
  },
  {
   "cell_type": "code",
   "execution_count": 12,
   "metadata": {},
   "outputs": [],
   "source": [
    "# shp = shape[:5000].copy()\n",
    "shp = shape.copy()"
   ]
  },
  {
   "cell_type": "code",
   "execution_count": 13,
   "metadata": {},
   "outputs": [
    {
     "name": "stderr",
     "output_type": "stream",
     "text": [
      "C:\\ProgramData\\Anaconda3\\envs\\hand_index\\lib\\site-packages\\numpy\\core\\fromnumeric.py:87: RuntimeWarning: overflow encountered in reduce\n",
      "  return ufunc.reduce(obj, axis, dtype, out, **passkwargs)\n"
     ]
    },
    {
     "ename": "KeyboardInterrupt",
     "evalue": "",
     "output_type": "error",
     "traceback": [
      "\u001b[1;31m---------------------------------------------------------------------------\u001b[0m",
      "\u001b[1;31mKeyboardInterrupt\u001b[0m                         Traceback (most recent call last)",
      "\u001b[1;32m<timed exec>\u001b[0m in \u001b[0;36m<module>\u001b[1;34m\u001b[0m\n",
      "\u001b[1;32m<ipython-input-7-6aba54d7f7c9>\u001b[0m in \u001b[0;36mmsk_rio\u001b[1;34m(geom, raster)\u001b[0m\n\u001b[0;32m     11\u001b[0m     for very thin polygons.\"\"\"\n\u001b[0;32m     12\u001b[0m \u001b[1;33m\u001b[0m\u001b[0m\n\u001b[1;32m---> 13\u001b[1;33m     \u001b[0mout_image\u001b[0m\u001b[1;33m,\u001b[0m \u001b[0m_\u001b[0m \u001b[1;33m=\u001b[0m \u001b[0mmask\u001b[0m\u001b[1;33m(\u001b[0m\u001b[0mraster\u001b[0m\u001b[1;33m,\u001b[0m \u001b[0mgeom\u001b[0m\u001b[1;33m,\u001b[0m \u001b[0mcrop\u001b[0m\u001b[1;33m=\u001b[0m\u001b[1;32mTrue\u001b[0m\u001b[1;33m,\u001b[0m \u001b[0mall_touched\u001b[0m\u001b[1;33m=\u001b[0m\u001b[1;32mTrue\u001b[0m\u001b[1;33m,\u001b[0m \u001b[0mnodata\u001b[0m\u001b[1;33m=\u001b[0m\u001b[0mnp\u001b[0m\u001b[1;33m.\u001b[0m\u001b[0mnan\u001b[0m\u001b[1;33m)\u001b[0m\u001b[1;33m\u001b[0m\u001b[1;33m\u001b[0m\u001b[0m\n\u001b[0m\u001b[0;32m     14\u001b[0m \u001b[1;33m\u001b[0m\u001b[0m\n\u001b[0;32m     15\u001b[0m     \u001b[1;32mreturn\u001b[0m \u001b[0mout_image\u001b[0m\u001b[1;33m\u001b[0m\u001b[1;33m\u001b[0m\u001b[0m\n",
      "\u001b[1;32mC:\\ProgramData\\Anaconda3\\envs\\hand_index\\lib\\site-packages\\rasterio\\mask.py\u001b[0m in \u001b[0;36mmask\u001b[1;34m(dataset, shapes, all_touched, invert, nodata, filled, crop, pad, pad_width, indexes)\u001b[0m\n\u001b[0;32m    191\u001b[0m         \u001b[0mout_shape\u001b[0m \u001b[1;33m=\u001b[0m \u001b[1;33m(\u001b[0m\u001b[0mlen\u001b[0m\u001b[1;33m(\u001b[0m\u001b[0mindexes\u001b[0m\u001b[1;33m)\u001b[0m\u001b[1;33m,\u001b[0m \u001b[1;33m)\u001b[0m \u001b[1;33m+\u001b[0m \u001b[0mshape_mask\u001b[0m\u001b[1;33m.\u001b[0m\u001b[0mshape\u001b[0m\u001b[1;33m\u001b[0m\u001b[1;33m\u001b[0m\u001b[0m\n\u001b[0;32m    192\u001b[0m \u001b[1;33m\u001b[0m\u001b[0m\n\u001b[1;32m--> 193\u001b[1;33m     out_image = dataset.read(\n\u001b[0m\u001b[0;32m    194\u001b[0m         window=window, out_shape=out_shape, masked=True, indexes=indexes)\n\u001b[0;32m    195\u001b[0m \u001b[1;33m\u001b[0m\u001b[0m\n",
      "\u001b[1;32mrasterio\\_io.pyx\u001b[0m in \u001b[0;36mrasterio._io.DatasetReaderBase.read\u001b[1;34m()\u001b[0m\n",
      "\u001b[1;32mrasterio\\_io.pyx\u001b[0m in \u001b[0;36mrasterio._io.DatasetReaderBase._read\u001b[1;34m()\u001b[0m\n",
      "\u001b[1;32mC:\\ProgramData\\Anaconda3\\envs\\hand_index\\lib\\logging\\__init__.py\u001b[0m in \u001b[0;36mdebug\u001b[1;34m(self, msg, *args, **kwargs)\u001b[0m\n\u001b[0;32m   1410\u001b[0m         \u001b[0mself\u001b[0m\u001b[1;33m.\u001b[0m\u001b[0mmanager\u001b[0m\u001b[1;33m.\u001b[0m\u001b[0m_clear_cache\u001b[0m\u001b[1;33m(\u001b[0m\u001b[1;33m)\u001b[0m\u001b[1;33m\u001b[0m\u001b[1;33m\u001b[0m\u001b[0m\n\u001b[0;32m   1411\u001b[0m \u001b[1;33m\u001b[0m\u001b[0m\n\u001b[1;32m-> 1412\u001b[1;33m     \u001b[1;32mdef\u001b[0m \u001b[0mdebug\u001b[0m\u001b[1;33m(\u001b[0m\u001b[0mself\u001b[0m\u001b[1;33m,\u001b[0m \u001b[0mmsg\u001b[0m\u001b[1;33m,\u001b[0m \u001b[1;33m*\u001b[0m\u001b[0margs\u001b[0m\u001b[1;33m,\u001b[0m \u001b[1;33m**\u001b[0m\u001b[0mkwargs\u001b[0m\u001b[1;33m)\u001b[0m\u001b[1;33m:\u001b[0m\u001b[1;33m\u001b[0m\u001b[1;33m\u001b[0m\u001b[0m\n\u001b[0m\u001b[0;32m   1413\u001b[0m         \"\"\"\n\u001b[0;32m   1414\u001b[0m         \u001b[0mLog\u001b[0m \u001b[1;34m'msg % args'\u001b[0m \u001b[1;32mwith\u001b[0m \u001b[0mseverity\u001b[0m \u001b[1;34m'DEBUG'\u001b[0m\u001b[1;33m.\u001b[0m\u001b[1;33m\u001b[0m\u001b[1;33m\u001b[0m\u001b[0m\n",
      "\u001b[1;31mKeyboardInterrupt\u001b[0m: "
     ]
    }
   ],
   "source": [
    "%%time\n",
    "\n",
    "# Open rasterio dataset\n",
    "ds = rasterio.open(\"c:\\\\Users\\\\ncoz\\\\ARRS_susa\\\\fill_tif_fill\\\\dem_slo_03_HAND_fill_nan.tif\")\n",
    "\n",
    "# Create rcolumn for saving results\n",
    "shp[\"hand_mean\"] = np.nan\n",
    "\n",
    "for index, item in shp.iterrows():\n",
    "    # Extract raster and calculate mean\n",
    "    sub_raster = msk_rio(item[\"geom\"], ds)\n",
    "    shp.loc[index, \"hand_mean\"] = np.nanmean(sub_raster)\n",
    "\n",
    "shp = shp.drop(columns=[\"geom\"])\n",
    "ds.close()"
   ]
  },
  {
   "cell_type": "code",
   "execution_count": 14,
   "metadata": {
    "scrolled": true
   },
   "outputs": [
    {
     "data": {
      "text/html": [
       "<div>\n",
       "<style scoped>\n",
       "    .dataframe tbody tr th:only-of-type {\n",
       "        vertical-align: middle;\n",
       "    }\n",
       "\n",
       "    .dataframe tbody tr th {\n",
       "        vertical-align: top;\n",
       "    }\n",
       "\n",
       "    .dataframe thead th {\n",
       "        text-align: right;\n",
       "    }\n",
       "</style>\n",
       "<table border=\"1\" class=\"dataframe\">\n",
       "  <thead>\n",
       "    <tr style=\"text-align: right;\">\n",
       "      <th></th>\n",
       "      <th>GERK_PID</th>\n",
       "      <th>POLJINA_ID</th>\n",
       "      <th>RABA_ID</th>\n",
       "      <th>POVR_GERK_</th>\n",
       "      <th>SIFRA_KMRS</th>\n",
       "      <th>OBRAZEC</th>\n",
       "      <th>INTERSECT</th>\n",
       "      <th>POVR_ar</th>\n",
       "      <th>REGIJA</th>\n",
       "      <th>geometry</th>\n",
       "      <th>hand_mean</th>\n",
       "    </tr>\n",
       "  </thead>\n",
       "  <tbody>\n",
       "    <tr>\n",
       "      <th>4997</th>\n",
       "      <td>1425714</td>\n",
       "      <td>2119385.0</td>\n",
       "      <td>1100</td>\n",
       "      <td>5183.5005</td>\n",
       "      <td>006</td>\n",
       "      <td>GP</td>\n",
       "      <td>0</td>\n",
       "      <td>51.835005</td>\n",
       "      <td>5</td>\n",
       "      <td>POLYGON ((566513.783 156266.730, 566511.996 15...</td>\n",
       "      <td>9.497029</td>\n",
       "    </tr>\n",
       "    <tr>\n",
       "      <th>4998</th>\n",
       "      <td>3319963</td>\n",
       "      <td>2119386.0</td>\n",
       "      <td>1300</td>\n",
       "      <td>5424.2931</td>\n",
       "      <td>204</td>\n",
       "      <td>GP</td>\n",
       "      <td>0</td>\n",
       "      <td>54.242931</td>\n",
       "      <td>5</td>\n",
       "      <td>POLYGON ((566610.648 156430.799, 566627.841 15...</td>\n",
       "      <td>8.743620</td>\n",
       "    </tr>\n",
       "    <tr>\n",
       "      <th>4999</th>\n",
       "      <td>2352253</td>\n",
       "      <td>2119388.0</td>\n",
       "      <td>1100</td>\n",
       "      <td>7313.3327</td>\n",
       "      <td>206</td>\n",
       "      <td>GP</td>\n",
       "      <td>0</td>\n",
       "      <td>73.133327</td>\n",
       "      <td>5</td>\n",
       "      <td>POLYGON ((566268.004 156617.728, 566294.294 15...</td>\n",
       "      <td>12.367579</td>\n",
       "    </tr>\n",
       "  </tbody>\n",
       "</table>\n",
       "</div>"
      ],
      "text/plain": [
       "      GERK_PID  POLJINA_ID  RABA_ID  POVR_GERK_ SIFRA_KMRS OBRAZEC  INTERSECT  \\\n",
       "4997   1425714   2119385.0     1100   5183.5005        006      GP          0   \n",
       "4998   3319963   2119386.0     1300   5424.2931        204      GP          0   \n",
       "4999   2352253   2119388.0     1100   7313.3327        206      GP          0   \n",
       "\n",
       "        POVR_ar  REGIJA                                           geometry  \\\n",
       "4997  51.835005       5  POLYGON ((566513.783 156266.730, 566511.996 15...   \n",
       "4998  54.242931       5  POLYGON ((566610.648 156430.799, 566627.841 15...   \n",
       "4999  73.133327       5  POLYGON ((566268.004 156617.728, 566294.294 15...   \n",
       "\n",
       "      hand_mean  \n",
       "4997   9.497029  \n",
       "4998   8.743620  \n",
       "4999  12.367579  "
      ]
     },
     "execution_count": 14,
     "metadata": {},
     "output_type": "execute_result"
    }
   ],
   "source": [
    "shp.tail(3)"
   ]
  },
  {
   "cell_type": "markdown",
   "metadata": {},
   "source": [
    "### LAMBDA"
   ]
  },
  {
   "cell_type": "markdown",
   "metadata": {},
   "source": [
    "Reset table"
   ]
  },
  {
   "cell_type": "code",
   "execution_count": 9,
   "metadata": {},
   "outputs": [],
   "source": [
    "shp = shape.copy()"
   ]
  },
  {
   "cell_type": "code",
   "execution_count": 10,
   "metadata": {},
   "outputs": [
    {
     "name": "stdout",
     "output_type": "stream",
     "text": [
      "Wall time: 19min 29s\n"
     ]
    }
   ],
   "source": [
    "%%time\n",
    "\n",
    "# Open rasterio dataset\n",
    "ds = rasterio.open(\"c:\\\\Users\\\\ncoz\\\\ARRS_susa\\\\fill_tif_fill\\\\dem_slo_03_HAND_fill_nan.tif\")\n",
    "\n",
    "shp[\"sub_raster\"] = shp[\"geom\"].apply(lambda g: msk_rio(g, ds))\n",
    "shp[\"hand_mean\"] = shp[\"sub_raster\"].apply(lambda g: np.nanmean(g))\n",
    "\n",
    "ds.close()\n",
    "shp = shp.drop(columns=[\"geom\", \"sub_raster\"])"
   ]
  },
  {
   "cell_type": "code",
   "execution_count": 11,
   "metadata": {},
   "outputs": [
    {
     "data": {
      "text/html": [
       "<div>\n",
       "<style scoped>\n",
       "    .dataframe tbody tr th:only-of-type {\n",
       "        vertical-align: middle;\n",
       "    }\n",
       "\n",
       "    .dataframe tbody tr th {\n",
       "        vertical-align: top;\n",
       "    }\n",
       "\n",
       "    .dataframe thead th {\n",
       "        text-align: right;\n",
       "    }\n",
       "</style>\n",
       "<table border=\"1\" class=\"dataframe\">\n",
       "  <thead>\n",
       "    <tr style=\"text-align: right;\">\n",
       "      <th></th>\n",
       "      <th>GERK_PID</th>\n",
       "      <th>POLJINA_ID</th>\n",
       "      <th>RABA_ID</th>\n",
       "      <th>POVR_GERK_</th>\n",
       "      <th>SIFRA_KMRS</th>\n",
       "      <th>OBRAZEC</th>\n",
       "      <th>INTERSECT</th>\n",
       "      <th>POVR_ar</th>\n",
       "      <th>REGIJA</th>\n",
       "      <th>geometry</th>\n",
       "      <th>hand_mean</th>\n",
       "    </tr>\n",
       "  </thead>\n",
       "  <tbody>\n",
       "    <tr>\n",
       "      <th>681965</th>\n",
       "      <td>1646627</td>\n",
       "      <td>2976728.0</td>\n",
       "      <td>1300</td>\n",
       "      <td>7559.2166</td>\n",
       "      <td>204</td>\n",
       "      <td>GP</td>\n",
       "      <td>0</td>\n",
       "      <td>75.592166</td>\n",
       "      <td>2</td>\n",
       "      <td>POLYGON ((432921.938 108920.374, 432931.875 10...</td>\n",
       "      <td>76.113777</td>\n",
       "    </tr>\n",
       "    <tr>\n",
       "      <th>681966</th>\n",
       "      <td>3588612</td>\n",
       "      <td>2976729.0</td>\n",
       "      <td>1300</td>\n",
       "      <td>6120.1665</td>\n",
       "      <td>204</td>\n",
       "      <td>GP</td>\n",
       "      <td>0</td>\n",
       "      <td>61.201665</td>\n",
       "      <td>2</td>\n",
       "      <td>POLYGON ((435669.945 108166.760, 435723.973 10...</td>\n",
       "      <td>9.261046</td>\n",
       "    </tr>\n",
       "    <tr>\n",
       "      <th>681967</th>\n",
       "      <td>3588639</td>\n",
       "      <td>2976730.0</td>\n",
       "      <td>1300</td>\n",
       "      <td>5015.4655</td>\n",
       "      <td>204</td>\n",
       "      <td>GP</td>\n",
       "      <td>0</td>\n",
       "      <td>50.154655</td>\n",
       "      <td>2</td>\n",
       "      <td>POLYGON ((435690.513 108261.462, 435639.992 10...</td>\n",
       "      <td>9.852235</td>\n",
       "    </tr>\n",
       "  </tbody>\n",
       "</table>\n",
       "</div>"
      ],
      "text/plain": [
       "        GERK_PID  POLJINA_ID  RABA_ID  POVR_GERK_ SIFRA_KMRS OBRAZEC  \\\n",
       "681965   1646627   2976728.0     1300   7559.2166        204      GP   \n",
       "681966   3588612   2976729.0     1300   6120.1665        204      GP   \n",
       "681967   3588639   2976730.0     1300   5015.4655        204      GP   \n",
       "\n",
       "        INTERSECT    POVR_ar  REGIJA  \\\n",
       "681965          0  75.592166       2   \n",
       "681966          0  61.201665       2   \n",
       "681967          0  50.154655       2   \n",
       "\n",
       "                                                 geometry  hand_mean  \n",
       "681965  POLYGON ((432921.938 108920.374, 432931.875 10...  76.113777  \n",
       "681966  POLYGON ((435669.945 108166.760, 435723.973 10...   9.261046  \n",
       "681967  POLYGON ((435690.513 108261.462, 435639.992 10...   9.852235  "
      ]
     },
     "execution_count": 11,
     "metadata": {},
     "output_type": "execute_result"
    }
   ],
   "source": [
    "shp.tail(3)"
   ]
  },
  {
   "cell_type": "markdown",
   "metadata": {},
   "source": [
    "### List comprehansion"
   ]
  },
  {
   "cell_type": "code",
   "execution_count": 6,
   "metadata": {},
   "outputs": [],
   "source": [
    "shp = shape.copy()"
   ]
  },
  {
   "cell_type": "code",
   "execution_count": 7,
   "metadata": {},
   "outputs": [
    {
     "name": "stderr",
     "output_type": "stream",
     "text": [
      "C:\\ProgramData\\Anaconda3\\envs\\hand_index\\lib\\site-packages\\numpy\\core\\fromnumeric.py:87: RuntimeWarning: overflow encountered in reduce\n",
      "  return ufunc.reduce(obj, axis, dtype, out, **passkwargs)\n"
     ]
    },
    {
     "name": "stdout",
     "output_type": "stream",
     "text": [
      "Wall time: 18min 9s\n"
     ]
    }
   ],
   "source": [
    "%%time\n",
    "\n",
    "# Open rasterio dataset\n",
    "ds = rasterio.open(\"c:\\\\Users\\\\ncoz\\\\ARRS_susa\\\\fill_tif_fill\\\\dem_slo_03_HAND_fill_nan.tif\")\n",
    "\n",
    "# shp[\"hand_array\"] = shp.geom.apply(lambda g: msk_rio(g, ds))\n",
    "# shp[\"hand_mean\"] = shp.hand_array.apply(lambda g: np.nanmean(g))\n",
    "\n",
    "result = [np.nanmean(msk_rio(g, ds)) for g in shp[\"geom\"]]\n",
    "shp[\"hand_mean\"] = result\n",
    "\n",
    "ds.close()\n",
    "shp = shp.drop(columns=[\"geom\"])"
   ]
  },
  {
   "cell_type": "code",
   "execution_count": 22,
   "metadata": {
    "scrolled": true
   },
   "outputs": [
    {
     "data": {
      "text/html": [
       "<div>\n",
       "<style scoped>\n",
       "    .dataframe tbody tr th:only-of-type {\n",
       "        vertical-align: middle;\n",
       "    }\n",
       "\n",
       "    .dataframe tbody tr th {\n",
       "        vertical-align: top;\n",
       "    }\n",
       "\n",
       "    .dataframe thead th {\n",
       "        text-align: right;\n",
       "    }\n",
       "</style>\n",
       "<table border=\"1\" class=\"dataframe\">\n",
       "  <thead>\n",
       "    <tr style=\"text-align: right;\">\n",
       "      <th></th>\n",
       "      <th>GERK_PID</th>\n",
       "      <th>POLJINA_ID</th>\n",
       "      <th>RABA_ID</th>\n",
       "      <th>POVR_GERK_</th>\n",
       "      <th>SIFRA_KMRS</th>\n",
       "      <th>OBRAZEC</th>\n",
       "      <th>INTERSECT</th>\n",
       "      <th>POVR_ar</th>\n",
       "      <th>REGIJA</th>\n",
       "      <th>geometry</th>\n",
       "      <th>hand_mean</th>\n",
       "    </tr>\n",
       "  </thead>\n",
       "  <tbody>\n",
       "    <tr>\n",
       "      <th>4997</th>\n",
       "      <td>1425714</td>\n",
       "      <td>2119385.0</td>\n",
       "      <td>1100</td>\n",
       "      <td>5183.5005</td>\n",
       "      <td>006</td>\n",
       "      <td>GP</td>\n",
       "      <td>0</td>\n",
       "      <td>51.835005</td>\n",
       "      <td>5</td>\n",
       "      <td>POLYGON ((566513.783 156266.730, 566511.996 15...</td>\n",
       "      <td>9.497029</td>\n",
       "    </tr>\n",
       "    <tr>\n",
       "      <th>4998</th>\n",
       "      <td>3319963</td>\n",
       "      <td>2119386.0</td>\n",
       "      <td>1300</td>\n",
       "      <td>5424.2931</td>\n",
       "      <td>204</td>\n",
       "      <td>GP</td>\n",
       "      <td>0</td>\n",
       "      <td>54.242931</td>\n",
       "      <td>5</td>\n",
       "      <td>POLYGON ((566610.648 156430.799, 566627.841 15...</td>\n",
       "      <td>8.743620</td>\n",
       "    </tr>\n",
       "    <tr>\n",
       "      <th>4999</th>\n",
       "      <td>2352253</td>\n",
       "      <td>2119388.0</td>\n",
       "      <td>1100</td>\n",
       "      <td>7313.3327</td>\n",
       "      <td>206</td>\n",
       "      <td>GP</td>\n",
       "      <td>0</td>\n",
       "      <td>73.133327</td>\n",
       "      <td>5</td>\n",
       "      <td>POLYGON ((566268.004 156617.728, 566294.294 15...</td>\n",
       "      <td>12.367579</td>\n",
       "    </tr>\n",
       "  </tbody>\n",
       "</table>\n",
       "</div>"
      ],
      "text/plain": [
       "      GERK_PID  POLJINA_ID  RABA_ID  POVR_GERK_ SIFRA_KMRS OBRAZEC  INTERSECT  \\\n",
       "4997   1425714   2119385.0     1100   5183.5005        006      GP          0   \n",
       "4998   3319963   2119386.0     1300   5424.2931        204      GP          0   \n",
       "4999   2352253   2119388.0     1100   7313.3327        206      GP          0   \n",
       "\n",
       "        POVR_ar  REGIJA                                           geometry  \\\n",
       "4997  51.835005       5  POLYGON ((566513.783 156266.730, 566511.996 15...   \n",
       "4998  54.242931       5  POLYGON ((566610.648 156430.799, 566627.841 15...   \n",
       "4999  73.133327       5  POLYGON ((566268.004 156617.728, 566294.294 15...   \n",
       "\n",
       "      hand_mean  \n",
       "4997   9.497029  \n",
       "4998   8.743620  \n",
       "4999  12.367579  "
      ]
     },
     "execution_count": 22,
     "metadata": {},
     "output_type": "execute_result"
    }
   ],
   "source": [
    "shp.tail(3)"
   ]
  },
  {
   "cell_type": "markdown",
   "metadata": {},
   "source": [
    "## What if we need to extract from multiple images?\n"
   ]
  },
  {
   "cell_type": "markdown",
   "metadata": {},
   "source": [
    "### Loop over all images with rasterio\n"
   ]
  },
  {
   "cell_type": "markdown",
   "metadata": {},
   "source": [
    "Write a new function called `multi_img()` that will loop over all opened raster datasets and for each:\n",
    "   - extract array from the raster\n",
    "   - calculate mean and append it to a list\n",
    "   - calculate aggregated mean and append at the end of the list"
   ]
  },
  {
   "cell_type": "code",
   "execution_count": 23,
   "metadata": {},
   "outputs": [],
   "source": [
    "def multi_img(geom, raster):\n",
    "    # Empty list for appending outputs\n",
    "    out = []\n",
    "    \n",
    "    for item in raster:\n",
    "        # Extract array\n",
    "        out_image, _ = mask(item, geom, crop=True, all_touched=True, nodata=np.nan)\n",
    "        # Calculate mean\n",
    "        mean_arr = np.nanmean(out_image)\n",
    "        # Append to list\n",
    "        out.append(mean_arr)\n",
    "        \n",
    "    # Add aggregated mean at the end\n",
    "    out.append(np.nanmean(out))\n",
    "    \n",
    "    return out"
   ]
  },
  {
   "cell_type": "markdown",
   "metadata": {},
   "source": [
    "Reset table"
   ]
  },
  {
   "cell_type": "code",
   "execution_count": 24,
   "metadata": {},
   "outputs": [],
   "source": [
    "shp = shape[:1000].copy()"
   ]
  },
  {
   "cell_type": "markdown",
   "metadata": {},
   "source": [
    "Run the function over the entire table"
   ]
  },
  {
   "cell_type": "code",
   "execution_count": 27,
   "metadata": {
    "scrolled": true
   },
   "outputs": [
    {
     "name": "stderr",
     "output_type": "stream",
     "text": [
      "<ipython-input-23-5259dcb6260e>:9: RuntimeWarning: Mean of empty slice\n",
      "  mean_arr = np.nanmean(out_image)\n"
     ]
    },
    {
     "name": "stdout",
     "output_type": "stream",
     "text": [
      "Wall time: 12 s\n"
     ]
    }
   ],
   "source": [
    "%%time\n",
    "\n",
    "img_paths = [\n",
    "    \"c:\\\\Users\\\\ncoz\\\\ARRS_susa\\\\ms_stacked\\\\20170220_SAVI_Cmask.tif\",\n",
    "    \"c:\\\\Users\\\\ncoz\\\\ARRS_susa\\\\ms_stacked\\\\20170411_SAVI_Cmask.tif\",\n",
    "    \"c:\\\\Users\\\\ncoz\\\\ARRS_susa\\\\ms_stacked\\\\20170421_SAVI_Cmask.tif\"\n",
    "]\n",
    "\n",
    "# lambda\n",
    "data_sources = [rasterio.open(a) for a in img_paths]\n",
    "shp[\"temp_col\"] = shp.geom.apply(lambda g: multi_img(g, data_sources))\n",
    "[a.close() for a in data_sources]\n",
    "\n",
    "# list to columns\n",
    "column_names = [\"slo_01\", \"slo_02\", \"slo_03\", \"slo_mean\"]\n",
    "shp[column_names] = gpd.GeoDataFrame(shp[\"temp_col\"].tolist(), index=shp.index)\n",
    "shp = shp.drop(columns=[\"temp_col\"])"
   ]
  },
  {
   "cell_type": "code",
   "execution_count": 30,
   "metadata": {
    "scrolled": false
   },
   "outputs": [
    {
     "data": {
      "text/html": [
       "<div>\n",
       "<style scoped>\n",
       "    .dataframe tbody tr th:only-of-type {\n",
       "        vertical-align: middle;\n",
       "    }\n",
       "\n",
       "    .dataframe tbody tr th {\n",
       "        vertical-align: top;\n",
       "    }\n",
       "\n",
       "    .dataframe thead th {\n",
       "        text-align: right;\n",
       "    }\n",
       "</style>\n",
       "<table border=\"1\" class=\"dataframe\">\n",
       "  <thead>\n",
       "    <tr style=\"text-align: right;\">\n",
       "      <th></th>\n",
       "      <th>slo_01</th>\n",
       "      <th>slo_02</th>\n",
       "      <th>slo_03</th>\n",
       "      <th>slo_mean</th>\n",
       "    </tr>\n",
       "  </thead>\n",
       "  <tbody>\n",
       "    <tr>\n",
       "      <th>0</th>\n",
       "      <td>0.129386</td>\n",
       "      <td>NaN</td>\n",
       "      <td>0.347085</td>\n",
       "      <td>0.238235</td>\n",
       "    </tr>\n",
       "    <tr>\n",
       "      <th>1</th>\n",
       "      <td>0.098749</td>\n",
       "      <td>NaN</td>\n",
       "      <td>0.211576</td>\n",
       "      <td>0.155163</td>\n",
       "    </tr>\n",
       "    <tr>\n",
       "      <th>2</th>\n",
       "      <td>0.177642</td>\n",
       "      <td>NaN</td>\n",
       "      <td>0.399359</td>\n",
       "      <td>0.288501</td>\n",
       "    </tr>\n",
       "    <tr>\n",
       "      <th>3</th>\n",
       "      <td>0.195160</td>\n",
       "      <td>NaN</td>\n",
       "      <td>0.420483</td>\n",
       "      <td>0.307821</td>\n",
       "    </tr>\n",
       "    <tr>\n",
       "      <th>4</th>\n",
       "      <td>0.237651</td>\n",
       "      <td>0.436733</td>\n",
       "      <td>0.501296</td>\n",
       "      <td>0.391893</td>\n",
       "    </tr>\n",
       "  </tbody>\n",
       "</table>\n",
       "</div>"
      ],
      "text/plain": [
       "     slo_01    slo_02    slo_03  slo_mean\n",
       "0  0.129386       NaN  0.347085  0.238235\n",
       "1  0.098749       NaN  0.211576  0.155163\n",
       "2  0.177642       NaN  0.399359  0.288501\n",
       "3  0.195160       NaN  0.420483  0.307821\n",
       "4  0.237651  0.436733  0.501296  0.391893"
      ]
     },
     "execution_count": 30,
     "metadata": {},
     "output_type": "execute_result"
    }
   ],
   "source": [
    "shp[column_names].head()"
   ]
  },
  {
   "cell_type": "markdown",
   "metadata": {},
   "source": [
    "### Pre-stack all images into a single (multiband) file"
   ]
  },
  {
   "cell_type": "markdown",
   "metadata": {},
   "source": [
    "Before we start processing, all images are stacked into a single file. The main bottleneck in this problem is reading data from files. Reading and writing from multiple files significantly increases the computation time. Possible work around is to create a file with multiple bands beforhand.\n",
    "\n",
    "Creating such file takes couple of minutes and it can save hours in processing. However, the down side is that we need to have enough RAM to oprate with very large multi-band files.\n",
    "\n",
    "**IMPORTANT!**\n",
    "Be careful in what order you stack the individual images. If using pthname matching modules such as `glob`, the order of listed paths might be arbitrary and needs to be sorted (by filename/date) before stacking into single file."
   ]
  },
  {
   "cell_type": "code",
   "execution_count": 32,
   "metadata": {},
   "outputs": [
    {
     "name": "stdout",
     "output_type": "stream",
     "text": [
      "Wall time: 51.2 s\n"
     ]
    }
   ],
   "source": [
    "%%time\n",
    "\n",
    "file_list = [\n",
    "    \"c:\\\\Users\\\\ncoz\\\\ARRS_susa\\\\ms_stacked\\\\20170220_SAVI_Cmask.tif\",\n",
    "    \"c:\\\\Users\\\\ncoz\\\\ARRS_susa\\\\ms_stacked\\\\20170411_SAVI_Cmask.tif\",\n",
    "    \"c:\\\\Users\\\\ncoz\\\\ARRS_susa\\\\ms_stacked\\\\20170421_SAVI_Cmask.tif\"\n",
    "]\n",
    "bnds = len(file_list)\n",
    "\n",
    "# Read metadata of first file\n",
    "with rasterio.open(file_list[0]) as src0:\n",
    "    meta = src0.meta\n",
    "    rst_shape = src0.shape\n",
    "\n",
    "# Update meta to reflect the number of layers\n",
    "meta.update(count=bnds)\n",
    "\n",
    "# Create empty array\n",
    "stack = np.empty((len(file_list), rst_shape[0], rst_shape[1]), meta[\"dtype\"])\n",
    "\n",
    "# Read directly into array\n",
    "for b, fp in enumerate(file_list):\n",
    "    with rasterio.open(fp) as ds:\n",
    "        stack[b, :, :] = ds.read(1)\n",
    "\n",
    "# Save file\n",
    "stacked_file = \"c:\\\\Users\\\\ncoz\\\\ARRS_susa\\\\ms_stacked\\\\stacked.tif\"\n",
    "\n",
    "with rasterio.open(stacked_file, 'w', **meta) as dst:\n",
    "    dst.write(stack)"
   ]
  },
  {
   "cell_type": "markdown",
   "metadata": {},
   "source": [
    "Write a new function called `stacked_img()` that will:\n",
    "   - extract array from the raster\n",
    "   - calculate mean for each band and store it as list\n",
    "   - calculate aggregated mean and append at the end of the list"
   ]
  },
  {
   "cell_type": "code",
   "execution_count": 33,
   "metadata": {
    "slideshow": {
     "slide_type": "slide"
    }
   },
   "outputs": [],
   "source": [
    "def stacked_img(geom, raster):\n",
    "    # Extract raster\n",
    "    out_image, _ = mask(raster, geom, crop=True, all_touched=True, nodata=np.nan)\n",
    "    \n",
    "    # Calculate mean for each band and store to list\n",
    "    means = list(np.nanmean(out_image, axis=(1, 2)))\n",
    "            \n",
    "    # Add aggregated mean\n",
    "    means.append(np.nanmean(means))\n",
    "    \n",
    "    return means"
   ]
  },
  {
   "cell_type": "markdown",
   "metadata": {},
   "source": [
    "Reset table"
   ]
  },
  {
   "cell_type": "code",
   "execution_count": 34,
   "metadata": {
    "scrolled": true
   },
   "outputs": [],
   "source": [
    "shp = shape[:1000].copy()"
   ]
  },
  {
   "cell_type": "markdown",
   "metadata": {},
   "source": [
    "Run the function over the entire table"
   ]
  },
  {
   "cell_type": "code",
   "execution_count": 35,
   "metadata": {},
   "outputs": [
    {
     "name": "stderr",
     "output_type": "stream",
     "text": [
      "<ipython-input-33-bec6064d2e45>:6: RuntimeWarning: Mean of empty slice\n",
      "  means = list(np.nanmean(out_image, axis=(1, 2)))\n"
     ]
    },
    {
     "name": "stdout",
     "output_type": "stream",
     "text": [
      "Wall time: 4.03 s\n"
     ]
    }
   ],
   "source": [
    "%%time\n",
    "\n",
    "# lambda\n",
    "ds = rasterio.open(stacked_file)\n",
    "shp[\"temp_col\"] = shp.geom.apply(lambda g: stacked_img(g, ds))\n",
    "ds.close()\n",
    "\n",
    "# list to columns\n",
    "column_names = [\"slo_01\", \"slo_02\", \"slo_03\", \"slo_mean\"]\n",
    "shp[column_names] = gpd.GeoDataFrame(shp[\"temp_col\"].tolist(), index=shp.index)\n",
    "shp = shp.drop(columns=[\"temp_col\"])"
   ]
  },
  {
   "cell_type": "code",
   "execution_count": 37,
   "metadata": {},
   "outputs": [
    {
     "data": {
      "text/html": [
       "<div>\n",
       "<style scoped>\n",
       "    .dataframe tbody tr th:only-of-type {\n",
       "        vertical-align: middle;\n",
       "    }\n",
       "\n",
       "    .dataframe tbody tr th {\n",
       "        vertical-align: top;\n",
       "    }\n",
       "\n",
       "    .dataframe thead th {\n",
       "        text-align: right;\n",
       "    }\n",
       "</style>\n",
       "<table border=\"1\" class=\"dataframe\">\n",
       "  <thead>\n",
       "    <tr style=\"text-align: right;\">\n",
       "      <th></th>\n",
       "      <th>slo_01</th>\n",
       "      <th>slo_02</th>\n",
       "      <th>slo_03</th>\n",
       "      <th>slo_mean</th>\n",
       "    </tr>\n",
       "  </thead>\n",
       "  <tbody>\n",
       "    <tr>\n",
       "      <th>0</th>\n",
       "      <td>0.129386</td>\n",
       "      <td>NaN</td>\n",
       "      <td>0.347085</td>\n",
       "      <td>0.238235</td>\n",
       "    </tr>\n",
       "    <tr>\n",
       "      <th>1</th>\n",
       "      <td>0.098749</td>\n",
       "      <td>NaN</td>\n",
       "      <td>0.211576</td>\n",
       "      <td>0.155163</td>\n",
       "    </tr>\n",
       "    <tr>\n",
       "      <th>2</th>\n",
       "      <td>0.177642</td>\n",
       "      <td>NaN</td>\n",
       "      <td>0.399359</td>\n",
       "      <td>0.288501</td>\n",
       "    </tr>\n",
       "    <tr>\n",
       "      <th>3</th>\n",
       "      <td>0.195160</td>\n",
       "      <td>NaN</td>\n",
       "      <td>0.420483</td>\n",
       "      <td>0.307821</td>\n",
       "    </tr>\n",
       "    <tr>\n",
       "      <th>4</th>\n",
       "      <td>0.237651</td>\n",
       "      <td>0.436733</td>\n",
       "      <td>0.501296</td>\n",
       "      <td>0.391893</td>\n",
       "    </tr>\n",
       "  </tbody>\n",
       "</table>\n",
       "</div>"
      ],
      "text/plain": [
       "     slo_01    slo_02    slo_03  slo_mean\n",
       "0  0.129386       NaN  0.347085  0.238235\n",
       "1  0.098749       NaN  0.211576  0.155163\n",
       "2  0.177642       NaN  0.399359  0.288501\n",
       "3  0.195160       NaN  0.420483  0.307821\n",
       "4  0.237651  0.436733  0.501296  0.391893"
      ]
     },
     "execution_count": 37,
     "metadata": {},
     "output_type": "execute_result"
    }
   ],
   "source": [
    "shp[column_names].head()"
   ]
  }
 ],
 "metadata": {
  "kernelspec": {
   "display_name": "Python 3",
   "language": "python",
   "name": "python3"
  },
  "language_info": {
   "codemirror_mode": {
    "name": "ipython",
    "version": 3
   },
   "file_extension": ".py",
   "mimetype": "text/x-python",
   "name": "python",
   "nbconvert_exporter": "python",
   "pygments_lexer": "ipython3",
   "version": "3.8.5"
  },
  "toc": {
   "base_numbering": 1,
   "nav_menu": {},
   "number_sections": true,
   "sideBar": true,
   "skip_h1_title": true,
   "title_cell": "Table of Contents",
   "title_sidebar": "Contents",
   "toc_cell": true,
   "toc_position": {},
   "toc_section_display": true,
   "toc_window_display": false
  }
 },
 "nbformat": 4,
 "nbformat_minor": 4
}
